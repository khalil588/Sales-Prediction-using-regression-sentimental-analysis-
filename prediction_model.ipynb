{
 "cells": [
  {
   "cell_type": "code",
   "execution_count": 1,
   "metadata": {},
   "outputs": [
    {
     "name": "stdout",
     "output_type": "stream",
     "text": [
      "   Last_month_sales Product_supervisor_review  \\\n",
      "0              4174                  negative   \n",
      "1              4507                  negative   \n",
      "2              1860                  positive   \n",
      "3              2294                  positive   \n",
      "4              2130                  positive   \n",
      "\n",
      "  Product_supervisor_product_recommendation Product_seniority  \\\n",
      "0                                      more               new   \n",
      "1                                      same               new   \n",
      "2                                      more               old   \n",
      "3                                      more               new   \n",
      "4                                      less               new   \n",
      "\n",
      "   Direct_competitor_sales  Product_market_position  \\\n",
      "0                     2337                93.932467   \n",
      "1                     1734                64.658595   \n",
      "2                     2716                21.411452   \n",
      "3                     2380                90.806186   \n",
      "4                     3774                44.608873   \n",
      "\n",
      "  Product_competitor_seniority  Competitor_sales_ratio  Product_prediction  \n",
      "0                          old                0.559895                4039  \n",
      "1                          new                0.384735                4372  \n",
      "2                          old                1.460215                2463  \n",
      "3                          new                1.037489                2633  \n",
      "4                          new                1.771831                2469  \n"
     ]
    }
   ],
   "source": [
    "import pandas as pd\n",
    "import numpy as np\n",
    "\n",
    "# Sample data generation\n",
    "np.random.seed(42)  # For reproducibility\n",
    "\n",
    "# Number of samples\n",
    "num_samples = 200000  # Change this to any number between 10000 and 20000\n",
    "\n",
    "# Generate data\n",
    "data = {\n",
    "    'Last_month_sales': np.random.randint(1000, 5000, size=num_samples),\n",
    "    'Product_supervisor_review': np.random.choice(['positive', 'negative'], size=num_samples),\n",
    "    'Product_supervisor_product_recommendation': np.random.choice(['more', 'less', 'same'], size=num_samples),\n",
    "    'Product_seniority': np.random.choice(['new', 'old'], size=num_samples),\n",
    "    'Direct_competitor_sales': np.random.randint(500, 4000, size=num_samples),\n",
    "    'Product_market_position': np.random.uniform(0, 100, size=num_samples),  # percentage of market share\n",
    "    'Product_competitor_seniority': np.random.choice(['new', 'old'], size=num_samples),\n",
    "}\n",
    "\n",
    "# Create DataFrame\n",
    "df = pd.DataFrame(data)\n",
    "\n",
    "# Calculate ratio of competitor sales to last month sales\n",
    "df['Competitor_sales_ratio'] = df['Direct_competitor_sales'] / df['Last_month_sales']\n",
    "\n",
    "# Product prediction logic\n",
    "df['Product_prediction'] = 0\n",
    "\n",
    "# Old products with positive reviews are predicted to perform better\n",
    "df.loc[(df['Product_seniority'] == 'old') & (df['Product_supervisor_review'] == 'positive'), 'Product_prediction'] = \\\n",
    "    df['Last_month_sales'] + np.random.randint(500, 1000)\n",
    "\n",
    "# New products with positive reviews are predicted based on their last month sales\n",
    "df.loc[(df['Product_seniority'] == 'new') & (df['Product_supervisor_review'] == 'positive'), 'Product_prediction'] = \\\n",
    "    df['Last_month_sales'] + np.random.randint(100, 500)\n",
    "\n",
    "# For negative reviews, you can add a logic (e.g., lower the prediction)\n",
    "df.loc[df['Product_supervisor_review'] == 'negative', 'Product_prediction'] = \\\n",
    "    df['Last_month_sales'] - np.random.randint(100, 500)\n",
    "\n",
    "# Display the first few rows of the dataset\n",
    "print(df.head())\n"
   ]
  },
  {
   "cell_type": "code",
   "execution_count": 32,
   "metadata": {},
   "outputs": [
    {
     "data": {
      "text/plain": [
       "(200000, 9)"
      ]
     },
     "execution_count": 32,
     "metadata": {},
     "output_type": "execute_result"
    }
   ],
   "source": [
    "df.shape"
   ]
  },
  {
   "cell_type": "code",
   "execution_count": 35,
   "metadata": {},
   "outputs": [
    {
     "name": "stdout",
     "output_type": "stream",
     "text": [
      "(200000, 9)\n",
      "*\n",
      "Index(['Last_month_sales', 'Direct_competitor_sales',\n",
      "       'Product_market_position', 'Competitor_sales_ratio',\n",
      "       'Product_prediction', 'Product_supervisor_review_positive',\n",
      "       'Product_supervisor_product_recommendation_more',\n",
      "       'Product_supervisor_product_recommendation_same',\n",
      "       'Product_seniority_old', 'Product_competitor_seniority_old'],\n",
      "      dtype='object')\n",
      "**\n",
      "(200000, 10)\n",
      "***\n",
      "Train set: (160000, 9), Validation set: (20000, 9), Test set: (20000, 9)\n",
      "Index(['Last_month_sales', 'Direct_competitor_sales',\n",
      "       'Product_market_position', 'Competitor_sales_ratio',\n",
      "       'Product_supervisor_review_positive',\n",
      "       'Product_supervisor_product_recommendation_more',\n",
      "       'Product_supervisor_product_recommendation_same',\n",
      "       'Product_seniority_old', 'Product_competitor_seniority_old'],\n",
      "      dtype='object')\n"
     ]
    }
   ],
   "source": [
    "import pandas as pd\n",
    "import numpy as np\n",
    "from sklearn.preprocessing import MinMaxScaler\n",
    "from sklearn.model_selection import train_test_split\n",
    "\n",
    "# Assuming your generated data (df) is already available\n",
    "\n",
    "# 1. Handle Missing Values (if any) - precautionary step\n",
    "df.fillna(0, inplace=True)\n",
    "print(df.shape)\n",
    "print(\"*\")\n",
    "# 2. Encoding Categorical Variables (One-hot encoding)\n",
    "df_encoded = pd.get_dummies(df, columns=[\n",
    "    'Product_supervisor_review', \n",
    "    'Product_supervisor_product_recommendation', \n",
    "    'Product_seniority', \n",
    "    'Product_competitor_seniority'], drop_first=True)\n",
    "print(df_encoded.columns)\n",
    "print('**')\n",
    "# 3. Feature Scaling (MinMax Scaling for numerical columns)\n",
    "num_columns = ['Last_month_sales', 'Direct_competitor_sales', 'Product_market_position', 'Competitor_sales_ratio']\n",
    "\n",
    "# Initialize MinMaxScaler\n",
    "scaler = MinMaxScaler()\n",
    "\n",
    "# Apply the scaler to the selected columns\n",
    "df_encoded[num_columns] = scaler.fit_transform(df_encoded[num_columns])\n",
    "print(df_encoded.shape)\n",
    "print('***')\n",
    "# 4. Splitting Data into Train, Test, and Validation Sets\n",
    "# Define the target variable (Product_prediction) and features\n",
    "X = df_encoded.drop(columns=['Product_prediction'])  # Features\n",
    "y = df_encoded['Product_prediction']  # Target variable\n",
    "df_encoded = df_encoded.drop(columns=['Product_prediction'])\n",
    "# First split into train and test (80% train, 20% test)\n",
    "X_train, X_temp, y_train, y_temp = train_test_split(X, y, test_size=0.2, random_state=42)\n",
    "\n",
    "# Further split the temp set into validation and test (50% of 20% = 10% validation, 10% test)\n",
    "X_val, X_test, y_val, y_test = train_test_split(X_temp, y_temp, test_size=0.5, random_state=42)\n",
    "\n",
    "# 5. Check the splits\n",
    "print(f'Train set: {X_train.shape}, Validation set: {X_val.shape}, Test set: {X_test.shape}')\n",
    "print(X.columns)"
   ]
  },
  {
   "cell_type": "code",
   "execution_count": 3,
   "metadata": {},
   "outputs": [
    {
     "name": "stdout",
     "output_type": "stream",
     "text": [
      "[LightGBM] [Info] Auto-choosing col-wise multi-threading, the overhead of testing was 0.014606 seconds.\n",
      "You can set `force_col_wise=true` to remove the overhead.\n",
      "[LightGBM] [Info] Total Bins 1030\n",
      "[LightGBM] [Info] Number of data points in the train set: 160000, number of used features: 9\n",
      "[LightGBM] [Info] Start training from score 3168.329944\n",
      "                       Model         MAE            MSE  R² Score\n",
      "0          Linear Regression   66.000299    4356.666330  0.996944\n",
      "1              Decision Tree    0.000150       0.000150  1.000000\n",
      "2              Random Forest    0.003966       0.000216  1.000000\n",
      "3          Gradient Boosting   17.361534     526.979218  0.999630\n",
      "4                    XGBoost    4.228534      25.551703  0.999982\n",
      "5   Support Vector Regressor   63.516701   10122.724675  0.992899\n",
      "6       Neural Network (MLP)    0.003628       0.000016  1.000000\n",
      "7           Ridge Regression   65.997601    4356.230732  0.996944\n",
      "8           Lasso Regression   65.913722    4362.908886  0.996940\n",
      "9      ElasticNet Regression  853.708030  987947.660961  0.307000\n",
      "10                       KNN   39.010250    2454.210662  0.998278\n",
      "11                  CatBoost    3.997031      21.825565  0.999985\n",
      "12                  LightGBM    4.947838      36.928311  0.999974\n"
     ]
    }
   ],
   "source": [
    "import pandas as pd\n",
    "import numpy as np\n",
    "from sklearn.model_selection import train_test_split\n",
    "from sklearn.metrics import mean_absolute_error, mean_squared_error, r2_score\n",
    "from sklearn.linear_model import LinearRegression, Ridge, Lasso, ElasticNet\n",
    "from sklearn.tree import DecisionTreeRegressor\n",
    "from sklearn.ensemble import RandomForestRegressor, GradientBoostingRegressor\n",
    "from sklearn.neighbors import KNeighborsRegressor\n",
    "from sklearn.svm import SVR\n",
    "from xgboost import XGBRegressor\n",
    "from sklearn.neural_network import MLPRegressor\n",
    "from catboost import CatBoostRegressor\n",
    "from lightgbm import LGBMRegressor\n",
    "\n",
    "\n",
    "# Define models\n",
    "models = {\n",
    "    'Linear Regression': LinearRegression(),\n",
    "    'Decision Tree': DecisionTreeRegressor(random_state=42),\n",
    "    'Random Forest': RandomForestRegressor(random_state=42),\n",
    "    'Gradient Boosting': GradientBoostingRegressor(random_state=42),\n",
    "    'XGBoost': XGBRegressor(random_state=42),\n",
    "    'Support Vector Regressor': SVR(),\n",
    "    'Neural Network (MLP)': MLPRegressor(random_state=42),\n",
    "    'Ridge Regression': Ridge(random_state=42),\n",
    "    'Lasso Regression': Lasso(random_state=42),\n",
    "    'ElasticNet Regression': ElasticNet(random_state=42),\n",
    "    'KNN': KNeighborsRegressor(),\n",
    "    'CatBoost': CatBoostRegressor(verbose=0, random_state=42),\n",
    "    'LightGBM': LGBMRegressor(random_state=42),\n",
    "}\n",
    "\n",
    "# Results list to store evaluation metrics\n",
    "results = []\n",
    "\n",
    "# Function to evaluate models\n",
    "def evaluate_model(model, X_train, X_val, y_train, y_val):\n",
    "    model.fit(X_train, y_train)\n",
    "    y_pred = model.predict(X_val)\n",
    "    \n",
    "    mae = mean_absolute_error(y_val, y_pred)\n",
    "    mse = mean_squared_error(y_val, y_pred)\n",
    "    r2 = r2_score(y_val, y_pred)\n",
    "    \n",
    "    return mae, mse, r2\n",
    "\n",
    "# Iterate through all models and evaluate them\n",
    "for name, model in models.items():\n",
    "    mae, mse, r2 = evaluate_model(model, X_train, X_val, y_train, y_val)\n",
    "    results.append({\n",
    "        'Model': name,\n",
    "        'MAE': mae,\n",
    "        'MSE': mse,\n",
    "        'R² Score': r2\n",
    "    })\n",
    "\n",
    "# Display results\n",
    "results_df = pd.DataFrame(results)\n",
    "print(results_df)\n"
   ]
  },
  {
   "cell_type": "code",
   "execution_count": 4,
   "metadata": {},
   "outputs": [
    {
     "name": "stderr",
     "output_type": "stream",
     "text": [
      "c:\\Users\\khali\\anaconda3\\envs\\F_pi\\Lib\\site-packages\\keras\\src\\layers\\core\\dense.py:87: UserWarning: Do not pass an `input_shape`/`input_dim` argument to a layer. When using Sequential models, prefer using an `Input(shape)` object as the first layer in the model instead.\n",
      "  super().__init__(activity_regularizer=activity_regularizer, **kwargs)\n"
     ]
    },
    {
     "name": "stdout",
     "output_type": "stream",
     "text": [
      "\u001b[1m625/625\u001b[0m \u001b[32m━━━━━━━━━━━━━━━━━━━━\u001b[0m\u001b[37m\u001b[0m \u001b[1m1s\u001b[0m 1ms/step\n"
     ]
    },
    {
     "name": "stderr",
     "output_type": "stream",
     "text": [
      "c:\\Users\\khali\\anaconda3\\envs\\F_pi\\Lib\\site-packages\\keras\\src\\layers\\rnn\\rnn.py:204: UserWarning: Do not pass an `input_shape`/`input_dim` argument to a layer. When using Sequential models, prefer using an `Input(shape)` object as the first layer in the model instead.\n",
      "  super().__init__(**kwargs)\n"
     ]
    },
    {
     "name": "stdout",
     "output_type": "stream",
     "text": [
      "\u001b[1m625/625\u001b[0m \u001b[32m━━━━━━━━━━━━━━━━━━━━\u001b[0m\u001b[37m\u001b[0m \u001b[1m1s\u001b[0m 2ms/step\n"
     ]
    },
    {
     "name": "stderr",
     "output_type": "stream",
     "text": [
      "c:\\Users\\khali\\anaconda3\\envs\\F_pi\\Lib\\site-packages\\keras\\src\\layers\\rnn\\rnn.py:204: UserWarning: Do not pass an `input_shape`/`input_dim` argument to a layer. When using Sequential models, prefer using an `Input(shape)` object as the first layer in the model instead.\n",
      "  super().__init__(**kwargs)\n"
     ]
    },
    {
     "name": "stdout",
     "output_type": "stream",
     "text": [
      "\u001b[1m625/625\u001b[0m \u001b[32m━━━━━━━━━━━━━━━━━━━━\u001b[0m\u001b[37m\u001b[0m \u001b[1m1s\u001b[0m 2ms/step\n",
      "                       Model          MAE           MSE  R² Score\n",
      "0          Linear Regression    66.000299  4.356666e+03  0.996944\n",
      "1              Decision Tree     0.000150  1.500000e-04  1.000000\n",
      "2              Random Forest     0.003966  2.156400e-04  1.000000\n",
      "3          Gradient Boosting    17.361534  5.269792e+02  0.999630\n",
      "4                    XGBoost     4.228534  2.555170e+01  0.999982\n",
      "5   Support Vector Regressor    63.516701  1.012272e+04  0.992899\n",
      "6       Neural Network (MLP)     0.003628  1.613551e-05  1.000000\n",
      "7           Ridge Regression    65.997601  4.356231e+03  0.996944\n",
      "8           Lasso Regression    65.913722  4.362909e+03  0.996940\n",
      "9      ElasticNet Regression   853.708030  9.879477e+05  0.307000\n",
      "10                       KNN    39.010250  2.454211e+03  0.998278\n",
      "11                  CatBoost     3.997031  2.182557e+01  0.999985\n",
      "12                  LightGBM     4.947838  3.692831e+01  0.999974\n",
      "13                       MLP    17.151158  4.795153e+02  0.999664\n",
      "14                      LSTM  2874.265428  9.682329e+06 -5.791709\n",
      "15                       GRU  2796.757663  9.246767e+06 -5.486182\n"
     ]
    }
   ],
   "source": [
    "import numpy as np\n",
    "import tensorflow as tf\n",
    "from tensorflow.keras.models import Sequential\n",
    "from tensorflow.keras.layers import Dense, LSTM, GRU, Dropout\n",
    "from tensorflow.keras.callbacks import EarlyStopping\n",
    "from sklearn.preprocessing import StandardScaler\n",
    "\n",
    "# Scaling the features for deep learning models\n",
    "scaler = StandardScaler()\n",
    "X_train_scaled = scaler.fit_transform(X_train)\n",
    "X_val_scaled = scaler.transform(X_val)\n",
    "\n",
    "# Reshaping for LSTM/GRU (which expects 3D input)\n",
    "X_train_dl = np.expand_dims(X_train_scaled, axis=1)\n",
    "X_val_dl = np.expand_dims(X_val_scaled, axis=1)\n",
    "\n",
    "# Common callback for early stopping\n",
    "early_stopping = EarlyStopping(patience=10, restore_best_weights=True)\n",
    "\n",
    "# Function to build and evaluate deep learning models\n",
    "def evaluate_dl_model(model, X_train, X_val, y_train, y_val, epochs=50, batch_size=32):\n",
    "    model.compile(optimizer='adam', loss='mse')\n",
    "    history = model.fit(X_train, y_train, \n",
    "                        validation_data=(X_val, y_val),\n",
    "                        epochs=epochs, batch_size=batch_size, \n",
    "                        callbacks=[early_stopping], verbose=0)\n",
    "    \n",
    "    # Predict on validation set\n",
    "    y_pred = model.predict(X_val)\n",
    "    \n",
    "    # Calculate metrics\n",
    "    mae = mean_absolute_error(y_val, y_pred)\n",
    "    mse = mean_squared_error(y_val, y_pred)\n",
    "    r2 = r2_score(y_val, y_pred)\n",
    "    \n",
    "    return mae, mse, r2\n",
    "\n",
    "# 1. MLP Model\n",
    "mlp_model = Sequential([\n",
    "    Dense(64, activation='relu', input_shape=(X_train.shape[1],)),\n",
    "    Dropout(0.2),\n",
    "    Dense(32, activation='relu'),\n",
    "    Dense(1)  # Output layer for regression\n",
    "])\n",
    "\n",
    "mlp_mae, mlp_mse, mlp_r2 = evaluate_dl_model(mlp_model, X_train_scaled, X_val_scaled, y_train, y_val)\n",
    "results.append({\n",
    "    'Model': 'MLP',\n",
    "    'MAE': mlp_mae,\n",
    "    'MSE': mlp_mse,\n",
    "    'R² Score': mlp_r2\n",
    "})\n",
    "\n",
    "# 2. LSTM Model\n",
    "lstm_model = Sequential([\n",
    "    LSTM(64, return_sequences=False, input_shape=(1, X_train.shape[1])),\n",
    "    Dropout(0.2),\n",
    "    Dense(1)  # Output layer for regression\n",
    "])\n",
    "\n",
    "lstm_mae, lstm_mse, lstm_r2 = evaluate_dl_model(lstm_model, X_train_dl, X_val_dl, y_train, y_val)\n",
    "results.append({\n",
    "    'Model': 'LSTM',\n",
    "    'MAE': lstm_mae,\n",
    "    'MSE': lstm_mse,\n",
    "    'R² Score': lstm_r2\n",
    "})\n",
    "\n",
    "# 3. GRU Model\n",
    "gru_model = Sequential([\n",
    "    GRU(64, return_sequences=False, input_shape=(1, X_train.shape[1])),\n",
    "    Dropout(0.2),\n",
    "    Dense(1)  # Output layer for regression\n",
    "])\n",
    "\n",
    "gru_mae, gru_mse, gru_r2 = evaluate_dl_model(gru_model, X_train_dl, X_val_dl, y_train, y_val)\n",
    "results.append({\n",
    "    'Model': 'GRU',\n",
    "    'MAE': gru_mae,\n",
    "    'MSE': gru_mse,\n",
    "    'R² Score': gru_r2\n",
    "})\n",
    "\n",
    "# Display the results\n",
    "results_df = pd.DataFrame(results)\n",
    "print(results_df)\n"
   ]
  },
  {
   "cell_type": "code",
   "execution_count": 12,
   "metadata": {},
   "outputs": [
    {
     "name": "stdout",
     "output_type": "stream",
     "text": [
      "mae 1.3923856108918364\n",
      "Mse 3.278912841819848\n",
      "r2_score 0.9999976999934949\n"
     ]
    },
    {
     "name": "stderr",
     "output_type": "stream",
     "text": [
      "c:\\Users\\khali\\anaconda3\\envs\\F_pi\\Lib\\site-packages\\sklearn\\neural_network\\_multilayer_perceptron.py:690: ConvergenceWarning: Stochastic Optimizer: Maximum iterations (200) reached and the optimization hasn't converged yet.\n",
      "  warnings.warn(\n"
     ]
    }
   ],
   "source": [
    "\n",
    "# Function to evaluate models\n",
    "def evaluate_model(model, X_train, X_val, y_train, y_val):\n",
    "    model.fit(X_train, y_train)\n",
    "    y_pred = model.predict(X_val)\n",
    "    \n",
    "    mae = mean_absolute_error(y_val, y_pred)\n",
    "    mse = mean_squared_error(y_val, y_pred)\n",
    "    r2 = r2_score(y_val, y_pred)\n",
    "    print(\"mae\",mae)\n",
    "    print(\"Mse\",mse)\n",
    "    print(\"r2_score\",r2)\n",
    "    return mae, mse, r2,model\n",
    "mlp_model = MLPRegressor(random_state=42)\n",
    "mlp_mae, mlp_mse, mlp_r2,mlp_model = evaluate_model(mlp_model, X_train_scaled, X_val_scaled, y_train, y_val)\n"
   ]
  },
  {
   "cell_type": "code",
   "execution_count": 13,
   "metadata": {},
   "outputs": [
    {
     "name": "stdout",
     "output_type": "stream",
     "text": [
      "Fitting 3 folds for each of 48 candidates, totalling 144 fits\n",
      "[CV] END activation=relu, hidden_layer_sizes=(50, 50), learning_rate=constant, max_iter=500, solver=adam; total time= 6.2min\n",
      "[CV] END activation=relu, hidden_layer_sizes=(50, 50), learning_rate=constant, max_iter=500, solver=adam; total time= 4.1min\n",
      "[CV] END activation=relu, hidden_layer_sizes=(50, 50), learning_rate=constant, max_iter=500, solver=adam; total time= 3.8min\n"
     ]
    },
    {
     "name": "stderr",
     "output_type": "stream",
     "text": [
      "c:\\Users\\khali\\anaconda3\\envs\\F_pi\\Lib\\site-packages\\sklearn\\utils\\extmath.py:205: RuntimeWarning: overflow encountered in matmul\n",
      "  ret = a @ b\n",
      "c:\\Users\\khali\\anaconda3\\envs\\F_pi\\Lib\\site-packages\\sklearn\\neural_network\\_multilayer_perceptron.py:690: ConvergenceWarning: Stochastic Optimizer: Maximum iterations (500) reached and the optimization hasn't converged yet.\n",
      "  warnings.warn(\n",
      "c:\\Users\\khali\\anaconda3\\envs\\F_pi\\Lib\\site-packages\\sklearn\\utils\\extmath.py:205: RuntimeWarning: overflow encountered in matmul\n",
      "  ret = a @ b\n",
      "c:\\Users\\khali\\anaconda3\\envs\\F_pi\\Lib\\site-packages\\sklearn\\utils\\extmath.py:205: RuntimeWarning: overflow encountered in matmul\n",
      "  ret = a @ b\n",
      "c:\\Users\\khali\\anaconda3\\envs\\F_pi\\Lib\\site-packages\\sklearn\\utils\\extmath.py:205: RuntimeWarning: invalid value encountered in matmul\n",
      "  ret = a @ b\n"
     ]
    },
    {
     "name": "stdout",
     "output_type": "stream",
     "text": [
      "[CV] END activation=relu, hidden_layer_sizes=(50, 50), learning_rate=constant, max_iter=500, solver=sgd; total time= 4.4min\n"
     ]
    },
    {
     "name": "stderr",
     "output_type": "stream",
     "text": [
      "c:\\Users\\khali\\anaconda3\\envs\\F_pi\\Lib\\site-packages\\sklearn\\neural_network\\_multilayer_perceptron.py:690: ConvergenceWarning: Stochastic Optimizer: Maximum iterations (500) reached and the optimization hasn't converged yet.\n",
      "  warnings.warn(\n"
     ]
    },
    {
     "name": "stdout",
     "output_type": "stream",
     "text": [
      "[CV] END activation=relu, hidden_layer_sizes=(50, 50), learning_rate=constant, max_iter=500, solver=sgd; total time= 3.8min\n",
      "[CV] END activation=relu, hidden_layer_sizes=(50, 50), learning_rate=constant, max_iter=500, solver=sgd; total time=   6.4s\n",
      "[CV] END activation=relu, hidden_layer_sizes=(50, 50), learning_rate=constant, max_iter=1000, solver=adam; total time= 6.3min\n",
      "[CV] END activation=relu, hidden_layer_sizes=(50, 50), learning_rate=constant, max_iter=1000, solver=adam; total time= 4.3min\n",
      "[CV] END activation=relu, hidden_layer_sizes=(50, 50), learning_rate=constant, max_iter=1000, solver=adam; total time= 3.8min\n"
     ]
    },
    {
     "name": "stderr",
     "output_type": "stream",
     "text": [
      "c:\\Users\\khali\\anaconda3\\envs\\F_pi\\Lib\\site-packages\\sklearn\\utils\\extmath.py:205: RuntimeWarning: overflow encountered in matmul\n",
      "  ret = a @ b\n",
      "c:\\Users\\khali\\anaconda3\\envs\\F_pi\\Lib\\site-packages\\sklearn\\neural_network\\_multilayer_perceptron.py:690: ConvergenceWarning: Stochastic Optimizer: Maximum iterations (1000) reached and the optimization hasn't converged yet.\n",
      "  warnings.warn(\n",
      "c:\\Users\\khali\\anaconda3\\envs\\F_pi\\Lib\\site-packages\\sklearn\\utils\\extmath.py:205: RuntimeWarning: overflow encountered in matmul\n",
      "  ret = a @ b\n",
      "c:\\Users\\khali\\anaconda3\\envs\\F_pi\\Lib\\site-packages\\sklearn\\utils\\extmath.py:205: RuntimeWarning: overflow encountered in matmul\n",
      "  ret = a @ b\n",
      "c:\\Users\\khali\\anaconda3\\envs\\F_pi\\Lib\\site-packages\\sklearn\\utils\\extmath.py:205: RuntimeWarning: invalid value encountered in matmul\n",
      "  ret = a @ b\n"
     ]
    },
    {
     "name": "stdout",
     "output_type": "stream",
     "text": [
      "[CV] END activation=relu, hidden_layer_sizes=(50, 50), learning_rate=constant, max_iter=1000, solver=sgd; total time= 8.9min\n"
     ]
    },
    {
     "name": "stderr",
     "output_type": "stream",
     "text": [
      "c:\\Users\\khali\\anaconda3\\envs\\F_pi\\Lib\\site-packages\\sklearn\\neural_network\\_multilayer_perceptron.py:690: ConvergenceWarning: Stochastic Optimizer: Maximum iterations (1000) reached and the optimization hasn't converged yet.\n",
      "  warnings.warn(\n"
     ]
    },
    {
     "name": "stdout",
     "output_type": "stream",
     "text": [
      "[CV] END activation=relu, hidden_layer_sizes=(50, 50), learning_rate=constant, max_iter=1000, solver=sgd; total time= 7.7min\n",
      "[CV] END activation=relu, hidden_layer_sizes=(50, 50), learning_rate=constant, max_iter=1000, solver=sgd; total time=   6.4s\n",
      "[CV] END activation=relu, hidden_layer_sizes=(50, 50), learning_rate=adaptive, max_iter=500, solver=adam; total time= 6.1min\n",
      "[CV] END activation=relu, hidden_layer_sizes=(50, 50), learning_rate=adaptive, max_iter=500, solver=adam; total time= 4.0min\n",
      "[CV] END activation=relu, hidden_layer_sizes=(50, 50), learning_rate=adaptive, max_iter=500, solver=adam; total time= 3.7min\n"
     ]
    },
    {
     "name": "stderr",
     "output_type": "stream",
     "text": [
      "c:\\Users\\khali\\anaconda3\\envs\\F_pi\\Lib\\site-packages\\sklearn\\utils\\extmath.py:205: RuntimeWarning: overflow encountered in matmul\n",
      "  ret = a @ b\n",
      "c:\\Users\\khali\\anaconda3\\envs\\F_pi\\Lib\\site-packages\\sklearn\\neural_network\\_multilayer_perceptron.py:690: ConvergenceWarning: Stochastic Optimizer: Maximum iterations (500) reached and the optimization hasn't converged yet.\n",
      "  warnings.warn(\n",
      "c:\\Users\\khali\\anaconda3\\envs\\F_pi\\Lib\\site-packages\\sklearn\\utils\\extmath.py:205: RuntimeWarning: overflow encountered in matmul\n",
      "  ret = a @ b\n",
      "c:\\Users\\khali\\anaconda3\\envs\\F_pi\\Lib\\site-packages\\sklearn\\utils\\extmath.py:205: RuntimeWarning: overflow encountered in matmul\n",
      "  ret = a @ b\n",
      "c:\\Users\\khali\\anaconda3\\envs\\F_pi\\Lib\\site-packages\\sklearn\\utils\\extmath.py:205: RuntimeWarning: invalid value encountered in matmul\n",
      "  ret = a @ b\n"
     ]
    },
    {
     "name": "stdout",
     "output_type": "stream",
     "text": [
      "[CV] END activation=relu, hidden_layer_sizes=(50, 50), learning_rate=adaptive, max_iter=500, solver=sgd; total time= 4.3min\n"
     ]
    },
    {
     "name": "stderr",
     "output_type": "stream",
     "text": [
      "c:\\Users\\khali\\anaconda3\\envs\\F_pi\\Lib\\site-packages\\sklearn\\neural_network\\_multilayer_perceptron.py:690: ConvergenceWarning: Stochastic Optimizer: Maximum iterations (500) reached and the optimization hasn't converged yet.\n",
      "  warnings.warn(\n"
     ]
    },
    {
     "name": "stdout",
     "output_type": "stream",
     "text": [
      "[CV] END activation=relu, hidden_layer_sizes=(50, 50), learning_rate=adaptive, max_iter=500, solver=sgd; total time= 3.8min\n",
      "[CV] END activation=relu, hidden_layer_sizes=(50, 50), learning_rate=adaptive, max_iter=500, solver=sgd; total time=  38.3s\n",
      "[CV] END activation=relu, hidden_layer_sizes=(50, 50), learning_rate=adaptive, max_iter=1000, solver=adam; total time= 6.0min\n",
      "[CV] END activation=relu, hidden_layer_sizes=(50, 50), learning_rate=adaptive, max_iter=1000, solver=adam; total time= 3.9min\n",
      "[CV] END activation=relu, hidden_layer_sizes=(50, 50), learning_rate=adaptive, max_iter=1000, solver=adam; total time= 3.7min\n"
     ]
    },
    {
     "name": "stderr",
     "output_type": "stream",
     "text": [
      "c:\\Users\\khali\\anaconda3\\envs\\F_pi\\Lib\\site-packages\\sklearn\\utils\\extmath.py:205: RuntimeWarning: overflow encountered in matmul\n",
      "  ret = a @ b\n",
      "c:\\Users\\khali\\anaconda3\\envs\\F_pi\\Lib\\site-packages\\sklearn\\neural_network\\_multilayer_perceptron.py:690: ConvergenceWarning: Stochastic Optimizer: Maximum iterations (1000) reached and the optimization hasn't converged yet.\n",
      "  warnings.warn(\n",
      "c:\\Users\\khali\\anaconda3\\envs\\F_pi\\Lib\\site-packages\\sklearn\\utils\\extmath.py:205: RuntimeWarning: overflow encountered in matmul\n",
      "  ret = a @ b\n",
      "c:\\Users\\khali\\anaconda3\\envs\\F_pi\\Lib\\site-packages\\sklearn\\utils\\extmath.py:205: RuntimeWarning: overflow encountered in matmul\n",
      "  ret = a @ b\n",
      "c:\\Users\\khali\\anaconda3\\envs\\F_pi\\Lib\\site-packages\\sklearn\\utils\\extmath.py:205: RuntimeWarning: invalid value encountered in matmul\n",
      "  ret = a @ b\n"
     ]
    },
    {
     "name": "stdout",
     "output_type": "stream",
     "text": [
      "[CV] END activation=relu, hidden_layer_sizes=(50, 50), learning_rate=adaptive, max_iter=1000, solver=sgd; total time= 8.7min\n"
     ]
    },
    {
     "name": "stderr",
     "output_type": "stream",
     "text": [
      "c:\\Users\\khali\\anaconda3\\envs\\F_pi\\Lib\\site-packages\\sklearn\\neural_network\\_multilayer_perceptron.py:690: ConvergenceWarning: Stochastic Optimizer: Maximum iterations (1000) reached and the optimization hasn't converged yet.\n",
      "  warnings.warn(\n"
     ]
    },
    {
     "name": "stdout",
     "output_type": "stream",
     "text": [
      "[CV] END activation=relu, hidden_layer_sizes=(50, 50), learning_rate=adaptive, max_iter=1000, solver=sgd; total time= 7.4min\n",
      "[CV] END activation=relu, hidden_layer_sizes=(50, 50), learning_rate=adaptive, max_iter=1000, solver=sgd; total time=  34.8s\n"
     ]
    },
    {
     "name": "stderr",
     "output_type": "stream",
     "text": [
      "c:\\Users\\khali\\anaconda3\\envs\\F_pi\\Lib\\site-packages\\sklearn\\neural_network\\_multilayer_perceptron.py:690: ConvergenceWarning: Stochastic Optimizer: Maximum iterations (500) reached and the optimization hasn't converged yet.\n",
      "  warnings.warn(\n"
     ]
    },
    {
     "name": "stdout",
     "output_type": "stream",
     "text": [
      "[CV] END activation=relu, hidden_layer_sizes=(100,), learning_rate=constant, max_iter=500, solver=adam; total time= 6.6min\n"
     ]
    },
    {
     "name": "stderr",
     "output_type": "stream",
     "text": [
      "c:\\Users\\khali\\anaconda3\\envs\\F_pi\\Lib\\site-packages\\sklearn\\neural_network\\_multilayer_perceptron.py:690: ConvergenceWarning: Stochastic Optimizer: Maximum iterations (500) reached and the optimization hasn't converged yet.\n",
      "  warnings.warn(\n"
     ]
    },
    {
     "name": "stdout",
     "output_type": "stream",
     "text": [
      "[CV] END activation=relu, hidden_layer_sizes=(100,), learning_rate=constant, max_iter=500, solver=adam; total time= 6.2min\n"
     ]
    },
    {
     "name": "stderr",
     "output_type": "stream",
     "text": [
      "c:\\Users\\khali\\anaconda3\\envs\\F_pi\\Lib\\site-packages\\sklearn\\neural_network\\_multilayer_perceptron.py:690: ConvergenceWarning: Stochastic Optimizer: Maximum iterations (500) reached and the optimization hasn't converged yet.\n",
      "  warnings.warn(\n",
      "c:\\Users\\khali\\anaconda3\\envs\\F_pi\\Lib\\site-packages\\sklearn\\neural_network\\_base.py:172: RuntimeWarning: overflow encountered in square\n",
      "  return ((y_true - y_pred) ** 2).mean() / 2\n",
      "c:\\Users\\khali\\anaconda3\\envs\\F_pi\\Lib\\site-packages\\sklearn\\utils\\extmath.py:205: RuntimeWarning: overflow encountered in matmul\n",
      "  ret = a @ b\n",
      "c:\\Users\\khali\\anaconda3\\envs\\F_pi\\Lib\\site-packages\\sklearn\\utils\\extmath.py:205: RuntimeWarning: invalid value encountered in matmul\n",
      "  ret = a @ b\n"
     ]
    },
    {
     "name": "stdout",
     "output_type": "stream",
     "text": [
      "[CV] END activation=relu, hidden_layer_sizes=(100,), learning_rate=constant, max_iter=500, solver=adam; total time= 6.7min\n"
     ]
    },
    {
     "name": "stderr",
     "output_type": "stream",
     "text": [
      "c:\\Users\\khali\\anaconda3\\envs\\F_pi\\Lib\\site-packages\\sklearn\\neural_network\\_multilayer_perceptron.py:690: ConvergenceWarning: Stochastic Optimizer: Maximum iterations (500) reached and the optimization hasn't converged yet.\n",
      "  warnings.warn(\n",
      "c:\\Users\\khali\\anaconda3\\envs\\F_pi\\Lib\\site-packages\\sklearn\\neural_network\\_base.py:172: RuntimeWarning: overflow encountered in square\n",
      "  return ((y_true - y_pred) ** 2).mean() / 2\n",
      "c:\\Users\\khali\\anaconda3\\envs\\F_pi\\Lib\\site-packages\\sklearn\\utils\\extmath.py:205: RuntimeWarning: overflow encountered in matmul\n",
      "  ret = a @ b\n",
      "c:\\Users\\khali\\anaconda3\\envs\\F_pi\\Lib\\site-packages\\sklearn\\utils\\extmath.py:205: RuntimeWarning: invalid value encountered in matmul\n",
      "  ret = a @ b\n"
     ]
    },
    {
     "name": "stdout",
     "output_type": "stream",
     "text": [
      "[CV] END activation=relu, hidden_layer_sizes=(100,), learning_rate=constant, max_iter=500, solver=sgd; total time= 2.7min\n"
     ]
    },
    {
     "name": "stderr",
     "output_type": "stream",
     "text": [
      "c:\\Users\\khali\\anaconda3\\envs\\F_pi\\Lib\\site-packages\\sklearn\\neural_network\\_multilayer_perceptron.py:690: ConvergenceWarning: Stochastic Optimizer: Maximum iterations (500) reached and the optimization hasn't converged yet.\n",
      "  warnings.warn(\n",
      "c:\\Users\\khali\\anaconda3\\envs\\F_pi\\Lib\\site-packages\\sklearn\\neural_network\\_base.py:172: RuntimeWarning: overflow encountered in square\n",
      "  return ((y_true - y_pred) ** 2).mean() / 2\n",
      "c:\\Users\\khali\\anaconda3\\envs\\F_pi\\Lib\\site-packages\\sklearn\\utils\\extmath.py:205: RuntimeWarning: overflow encountered in matmul\n",
      "  ret = a @ b\n",
      "c:\\Users\\khali\\anaconda3\\envs\\F_pi\\Lib\\site-packages\\sklearn\\utils\\extmath.py:205: RuntimeWarning: invalid value encountered in matmul\n",
      "  ret = a @ b\n"
     ]
    },
    {
     "name": "stdout",
     "output_type": "stream",
     "text": [
      "[CV] END activation=relu, hidden_layer_sizes=(100,), learning_rate=constant, max_iter=500, solver=sgd; total time= 2.8min\n"
     ]
    },
    {
     "name": "stderr",
     "output_type": "stream",
     "text": [
      "c:\\Users\\khali\\anaconda3\\envs\\F_pi\\Lib\\site-packages\\sklearn\\neural_network\\_multilayer_perceptron.py:690: ConvergenceWarning: Stochastic Optimizer: Maximum iterations (500) reached and the optimization hasn't converged yet.\n",
      "  warnings.warn(\n"
     ]
    },
    {
     "name": "stdout",
     "output_type": "stream",
     "text": [
      "[CV] END activation=relu, hidden_layer_sizes=(100,), learning_rate=constant, max_iter=500, solver=sgd; total time= 3.0min\n",
      "[CV] END activation=relu, hidden_layer_sizes=(100,), learning_rate=constant, max_iter=1000, solver=adam; total time=11.2min\n",
      "[CV] END activation=relu, hidden_layer_sizes=(100,), learning_rate=constant, max_iter=1000, solver=adam; total time=10.2min\n",
      "[CV] END activation=relu, hidden_layer_sizes=(100,), learning_rate=constant, max_iter=1000, solver=adam; total time= 9.3min\n"
     ]
    },
    {
     "name": "stderr",
     "output_type": "stream",
     "text": [
      "c:\\Users\\khali\\anaconda3\\envs\\F_pi\\Lib\\site-packages\\sklearn\\neural_network\\_base.py:172: RuntimeWarning: overflow encountered in square\n",
      "  return ((y_true - y_pred) ** 2).mean() / 2\n",
      "c:\\Users\\khali\\anaconda3\\envs\\F_pi\\Lib\\site-packages\\sklearn\\utils\\extmath.py:205: RuntimeWarning: overflow encountered in matmul\n",
      "  ret = a @ b\n",
      "c:\\Users\\khali\\anaconda3\\envs\\F_pi\\Lib\\site-packages\\sklearn\\utils\\extmath.py:205: RuntimeWarning: invalid value encountered in matmul\n",
      "  ret = a @ b\n",
      "c:\\Users\\khali\\anaconda3\\envs\\F_pi\\Lib\\site-packages\\sklearn\\neural_network\\_multilayer_perceptron.py:690: ConvergenceWarning: Stochastic Optimizer: Maximum iterations (1000) reached and the optimization hasn't converged yet.\n",
      "  warnings.warn(\n",
      "c:\\Users\\khali\\anaconda3\\envs\\F_pi\\Lib\\site-packages\\sklearn\\neural_network\\_base.py:172: RuntimeWarning: overflow encountered in square\n",
      "  return ((y_true - y_pred) ** 2).mean() / 2\n",
      "c:\\Users\\khali\\anaconda3\\envs\\F_pi\\Lib\\site-packages\\sklearn\\utils\\extmath.py:205: RuntimeWarning: overflow encountered in matmul\n",
      "  ret = a @ b\n",
      "c:\\Users\\khali\\anaconda3\\envs\\F_pi\\Lib\\site-packages\\sklearn\\utils\\extmath.py:205: RuntimeWarning: invalid value encountered in matmul\n",
      "  ret = a @ b\n"
     ]
    },
    {
     "name": "stdout",
     "output_type": "stream",
     "text": [
      "[CV] END activation=relu, hidden_layer_sizes=(100,), learning_rate=constant, max_iter=1000, solver=sgd; total time= 5.4min\n"
     ]
    },
    {
     "name": "stderr",
     "output_type": "stream",
     "text": [
      "c:\\Users\\khali\\anaconda3\\envs\\F_pi\\Lib\\site-packages\\sklearn\\neural_network\\_multilayer_perceptron.py:690: ConvergenceWarning: Stochastic Optimizer: Maximum iterations (1000) reached and the optimization hasn't converged yet.\n",
      "  warnings.warn(\n",
      "c:\\Users\\khali\\anaconda3\\envs\\F_pi\\Lib\\site-packages\\sklearn\\neural_network\\_base.py:172: RuntimeWarning: overflow encountered in square\n",
      "  return ((y_true - y_pred) ** 2).mean() / 2\n",
      "c:\\Users\\khali\\anaconda3\\envs\\F_pi\\Lib\\site-packages\\sklearn\\utils\\extmath.py:205: RuntimeWarning: overflow encountered in matmul\n",
      "  ret = a @ b\n",
      "c:\\Users\\khali\\anaconda3\\envs\\F_pi\\Lib\\site-packages\\sklearn\\utils\\extmath.py:205: RuntimeWarning: invalid value encountered in matmul\n",
      "  ret = a @ b\n"
     ]
    },
    {
     "name": "stdout",
     "output_type": "stream",
     "text": [
      "[CV] END activation=relu, hidden_layer_sizes=(100,), learning_rate=constant, max_iter=1000, solver=sgd; total time= 5.4min\n"
     ]
    },
    {
     "name": "stderr",
     "output_type": "stream",
     "text": [
      "c:\\Users\\khali\\anaconda3\\envs\\F_pi\\Lib\\site-packages\\sklearn\\neural_network\\_multilayer_perceptron.py:690: ConvergenceWarning: Stochastic Optimizer: Maximum iterations (1000) reached and the optimization hasn't converged yet.\n",
      "  warnings.warn(\n"
     ]
    },
    {
     "name": "stdout",
     "output_type": "stream",
     "text": [
      "[CV] END activation=relu, hidden_layer_sizes=(100,), learning_rate=constant, max_iter=1000, solver=sgd; total time= 5.6min\n"
     ]
    },
    {
     "name": "stderr",
     "output_type": "stream",
     "text": [
      "c:\\Users\\khali\\anaconda3\\envs\\F_pi\\Lib\\site-packages\\sklearn\\neural_network\\_multilayer_perceptron.py:690: ConvergenceWarning: Stochastic Optimizer: Maximum iterations (500) reached and the optimization hasn't converged yet.\n",
      "  warnings.warn(\n"
     ]
    },
    {
     "name": "stdout",
     "output_type": "stream",
     "text": [
      "[CV] END activation=relu, hidden_layer_sizes=(100,), learning_rate=adaptive, max_iter=500, solver=adam; total time= 6.7min\n"
     ]
    },
    {
     "name": "stderr",
     "output_type": "stream",
     "text": [
      "c:\\Users\\khali\\anaconda3\\envs\\F_pi\\Lib\\site-packages\\sklearn\\neural_network\\_multilayer_perceptron.py:690: ConvergenceWarning: Stochastic Optimizer: Maximum iterations (500) reached and the optimization hasn't converged yet.\n",
      "  warnings.warn(\n"
     ]
    },
    {
     "name": "stdout",
     "output_type": "stream",
     "text": [
      "[CV] END activation=relu, hidden_layer_sizes=(100,), learning_rate=adaptive, max_iter=500, solver=adam; total time= 6.2min\n"
     ]
    },
    {
     "name": "stderr",
     "output_type": "stream",
     "text": [
      "c:\\Users\\khali\\anaconda3\\envs\\F_pi\\Lib\\site-packages\\sklearn\\neural_network\\_multilayer_perceptron.py:690: ConvergenceWarning: Stochastic Optimizer: Maximum iterations (500) reached and the optimization hasn't converged yet.\n",
      "  warnings.warn(\n",
      "c:\\Users\\khali\\anaconda3\\envs\\F_pi\\Lib\\site-packages\\sklearn\\neural_network\\_base.py:172: RuntimeWarning: overflow encountered in square\n",
      "  return ((y_true - y_pred) ** 2).mean() / 2\n",
      "c:\\Users\\khali\\anaconda3\\envs\\F_pi\\Lib\\site-packages\\sklearn\\utils\\extmath.py:205: RuntimeWarning: overflow encountered in matmul\n",
      "  ret = a @ b\n",
      "c:\\Users\\khali\\anaconda3\\envs\\F_pi\\Lib\\site-packages\\sklearn\\utils\\extmath.py:205: RuntimeWarning: invalid value encountered in matmul\n",
      "  ret = a @ b\n"
     ]
    },
    {
     "name": "stdout",
     "output_type": "stream",
     "text": [
      "[CV] END activation=relu, hidden_layer_sizes=(100,), learning_rate=adaptive, max_iter=500, solver=adam; total time= 6.7min\n"
     ]
    },
    {
     "name": "stderr",
     "output_type": "stream",
     "text": [
      "c:\\Users\\khali\\anaconda3\\envs\\F_pi\\Lib\\site-packages\\sklearn\\neural_network\\_multilayer_perceptron.py:690: ConvergenceWarning: Stochastic Optimizer: Maximum iterations (500) reached and the optimization hasn't converged yet.\n",
      "  warnings.warn(\n",
      "c:\\Users\\khali\\anaconda3\\envs\\F_pi\\Lib\\site-packages\\sklearn\\neural_network\\_base.py:172: RuntimeWarning: overflow encountered in square\n",
      "  return ((y_true - y_pred) ** 2).mean() / 2\n",
      "c:\\Users\\khali\\anaconda3\\envs\\F_pi\\Lib\\site-packages\\sklearn\\utils\\extmath.py:205: RuntimeWarning: overflow encountered in matmul\n",
      "  ret = a @ b\n",
      "c:\\Users\\khali\\anaconda3\\envs\\F_pi\\Lib\\site-packages\\sklearn\\utils\\extmath.py:205: RuntimeWarning: invalid value encountered in matmul\n",
      "  ret = a @ b\n"
     ]
    },
    {
     "name": "stdout",
     "output_type": "stream",
     "text": [
      "[CV] END activation=relu, hidden_layer_sizes=(100,), learning_rate=adaptive, max_iter=500, solver=sgd; total time= 2.7min\n"
     ]
    },
    {
     "name": "stderr",
     "output_type": "stream",
     "text": [
      "c:\\Users\\khali\\anaconda3\\envs\\F_pi\\Lib\\site-packages\\sklearn\\neural_network\\_multilayer_perceptron.py:690: ConvergenceWarning: Stochastic Optimizer: Maximum iterations (500) reached and the optimization hasn't converged yet.\n",
      "  warnings.warn(\n",
      "c:\\Users\\khali\\anaconda3\\envs\\F_pi\\Lib\\site-packages\\sklearn\\neural_network\\_base.py:172: RuntimeWarning: overflow encountered in square\n",
      "  return ((y_true - y_pred) ** 2).mean() / 2\n",
      "c:\\Users\\khali\\anaconda3\\envs\\F_pi\\Lib\\site-packages\\sklearn\\utils\\extmath.py:205: RuntimeWarning: overflow encountered in matmul\n",
      "  ret = a @ b\n",
      "c:\\Users\\khali\\anaconda3\\envs\\F_pi\\Lib\\site-packages\\sklearn\\utils\\extmath.py:205: RuntimeWarning: invalid value encountered in matmul\n",
      "  ret = a @ b\n"
     ]
    },
    {
     "name": "stdout",
     "output_type": "stream",
     "text": [
      "[CV] END activation=relu, hidden_layer_sizes=(100,), learning_rate=adaptive, max_iter=500, solver=sgd; total time= 2.7min\n"
     ]
    },
    {
     "name": "stderr",
     "output_type": "stream",
     "text": [
      "c:\\Users\\khali\\anaconda3\\envs\\F_pi\\Lib\\site-packages\\sklearn\\neural_network\\_multilayer_perceptron.py:690: ConvergenceWarning: Stochastic Optimizer: Maximum iterations (500) reached and the optimization hasn't converged yet.\n",
      "  warnings.warn(\n"
     ]
    },
    {
     "name": "stdout",
     "output_type": "stream",
     "text": [
      "[CV] END activation=relu, hidden_layer_sizes=(100,), learning_rate=adaptive, max_iter=500, solver=sgd; total time= 2.8min\n",
      "[CV] END activation=relu, hidden_layer_sizes=(100,), learning_rate=adaptive, max_iter=1000, solver=adam; total time=11.2min\n",
      "[CV] END activation=relu, hidden_layer_sizes=(100,), learning_rate=adaptive, max_iter=1000, solver=adam; total time=10.2min\n",
      "[CV] END activation=relu, hidden_layer_sizes=(100,), learning_rate=adaptive, max_iter=1000, solver=adam; total time= 9.1min\n"
     ]
    },
    {
     "name": "stderr",
     "output_type": "stream",
     "text": [
      "c:\\Users\\khali\\anaconda3\\envs\\F_pi\\Lib\\site-packages\\sklearn\\neural_network\\_base.py:172: RuntimeWarning: overflow encountered in square\n",
      "  return ((y_true - y_pred) ** 2).mean() / 2\n",
      "c:\\Users\\khali\\anaconda3\\envs\\F_pi\\Lib\\site-packages\\sklearn\\utils\\extmath.py:205: RuntimeWarning: overflow encountered in matmul\n",
      "  ret = a @ b\n",
      "c:\\Users\\khali\\anaconda3\\envs\\F_pi\\Lib\\site-packages\\sklearn\\utils\\extmath.py:205: RuntimeWarning: invalid value encountered in matmul\n",
      "  ret = a @ b\n",
      "c:\\Users\\khali\\anaconda3\\envs\\F_pi\\Lib\\site-packages\\sklearn\\neural_network\\_multilayer_perceptron.py:690: ConvergenceWarning: Stochastic Optimizer: Maximum iterations (1000) reached and the optimization hasn't converged yet.\n",
      "  warnings.warn(\n",
      "c:\\Users\\khali\\anaconda3\\envs\\F_pi\\Lib\\site-packages\\sklearn\\neural_network\\_base.py:172: RuntimeWarning: overflow encountered in square\n",
      "  return ((y_true - y_pred) ** 2).mean() / 2\n",
      "c:\\Users\\khali\\anaconda3\\envs\\F_pi\\Lib\\site-packages\\sklearn\\utils\\extmath.py:205: RuntimeWarning: overflow encountered in matmul\n",
      "  ret = a @ b\n",
      "c:\\Users\\khali\\anaconda3\\envs\\F_pi\\Lib\\site-packages\\sklearn\\utils\\extmath.py:205: RuntimeWarning: invalid value encountered in matmul\n",
      "  ret = a @ b\n"
     ]
    },
    {
     "name": "stdout",
     "output_type": "stream",
     "text": [
      "[CV] END activation=relu, hidden_layer_sizes=(100,), learning_rate=adaptive, max_iter=1000, solver=sgd; total time= 5.4min\n"
     ]
    },
    {
     "name": "stderr",
     "output_type": "stream",
     "text": [
      "c:\\Users\\khali\\anaconda3\\envs\\F_pi\\Lib\\site-packages\\sklearn\\neural_network\\_multilayer_perceptron.py:690: ConvergenceWarning: Stochastic Optimizer: Maximum iterations (1000) reached and the optimization hasn't converged yet.\n",
      "  warnings.warn(\n",
      "c:\\Users\\khali\\anaconda3\\envs\\F_pi\\Lib\\site-packages\\sklearn\\neural_network\\_base.py:172: RuntimeWarning: overflow encountered in square\n",
      "  return ((y_true - y_pred) ** 2).mean() / 2\n",
      "c:\\Users\\khali\\anaconda3\\envs\\F_pi\\Lib\\site-packages\\sklearn\\utils\\extmath.py:205: RuntimeWarning: overflow encountered in matmul\n",
      "  ret = a @ b\n",
      "c:\\Users\\khali\\anaconda3\\envs\\F_pi\\Lib\\site-packages\\sklearn\\utils\\extmath.py:205: RuntimeWarning: invalid value encountered in matmul\n",
      "  ret = a @ b\n"
     ]
    },
    {
     "name": "stdout",
     "output_type": "stream",
     "text": [
      "[CV] END activation=relu, hidden_layer_sizes=(100,), learning_rate=adaptive, max_iter=1000, solver=sgd; total time= 5.5min\n"
     ]
    },
    {
     "name": "stderr",
     "output_type": "stream",
     "text": [
      "c:\\Users\\khali\\anaconda3\\envs\\F_pi\\Lib\\site-packages\\sklearn\\neural_network\\_multilayer_perceptron.py:690: ConvergenceWarning: Stochastic Optimizer: Maximum iterations (1000) reached and the optimization hasn't converged yet.\n",
      "  warnings.warn(\n"
     ]
    },
    {
     "name": "stdout",
     "output_type": "stream",
     "text": [
      "[CV] END activation=relu, hidden_layer_sizes=(100,), learning_rate=adaptive, max_iter=1000, solver=sgd; total time= 5.8min\n",
      "[CV] END activation=relu, hidden_layer_sizes=(100, 50), learning_rate=constant, max_iter=500, solver=adam; total time=11.0min\n",
      "[CV] END activation=relu, hidden_layer_sizes=(100, 50), learning_rate=constant, max_iter=500, solver=adam; total time=11.5min\n",
      "[CV] END activation=relu, hidden_layer_sizes=(100, 50), learning_rate=constant, max_iter=500, solver=adam; total time=10.9min\n"
     ]
    },
    {
     "name": "stderr",
     "output_type": "stream",
     "text": [
      "c:\\Users\\khali\\anaconda3\\envs\\F_pi\\Lib\\site-packages\\sklearn\\utils\\extmath.py:205: RuntimeWarning: overflow encountered in matmul\n",
      "  ret = a @ b\n",
      "c:\\Users\\khali\\anaconda3\\envs\\F_pi\\Lib\\site-packages\\sklearn\\neural_network\\_multilayer_perceptron.py:690: ConvergenceWarning: Stochastic Optimizer: Maximum iterations (500) reached and the optimization hasn't converged yet.\n",
      "  warnings.warn(\n",
      "c:\\Users\\khali\\anaconda3\\envs\\F_pi\\Lib\\site-packages\\sklearn\\utils\\extmath.py:205: RuntimeWarning: overflow encountered in matmul\n",
      "  ret = a @ b\n",
      "c:\\Users\\khali\\anaconda3\\envs\\F_pi\\Lib\\site-packages\\sklearn\\utils\\extmath.py:205: RuntimeWarning: overflow encountered in matmul\n",
      "  ret = a @ b\n"
     ]
    },
    {
     "name": "stdout",
     "output_type": "stream",
     "text": [
      "[CV] END activation=relu, hidden_layer_sizes=(100, 50), learning_rate=constant, max_iter=500, solver=sgd; total time= 5.2min\n"
     ]
    },
    {
     "name": "stderr",
     "output_type": "stream",
     "text": [
      "c:\\Users\\khali\\anaconda3\\envs\\F_pi\\Lib\\site-packages\\sklearn\\neural_network\\_multilayer_perceptron.py:690: ConvergenceWarning: Stochastic Optimizer: Maximum iterations (500) reached and the optimization hasn't converged yet.\n",
      "  warnings.warn(\n",
      "c:\\Users\\khali\\anaconda3\\envs\\F_pi\\Lib\\site-packages\\sklearn\\utils\\extmath.py:205: RuntimeWarning: overflow encountered in matmul\n",
      "  ret = a @ b\n",
      "c:\\Users\\khali\\anaconda3\\envs\\F_pi\\Lib\\site-packages\\sklearn\\utils\\extmath.py:205: RuntimeWarning: overflow encountered in matmul\n",
      "  ret = a @ b\n"
     ]
    },
    {
     "name": "stdout",
     "output_type": "stream",
     "text": [
      "[CV] END activation=relu, hidden_layer_sizes=(100, 50), learning_rate=constant, max_iter=500, solver=sgd; total time= 5.5min\n"
     ]
    },
    {
     "name": "stderr",
     "output_type": "stream",
     "text": [
      "c:\\Users\\khali\\anaconda3\\envs\\F_pi\\Lib\\site-packages\\sklearn\\neural_network\\_multilayer_perceptron.py:690: ConvergenceWarning: Stochastic Optimizer: Maximum iterations (500) reached and the optimization hasn't converged yet.\n",
      "  warnings.warn(\n",
      "c:\\Users\\khali\\anaconda3\\envs\\F_pi\\Lib\\site-packages\\sklearn\\utils\\extmath.py:205: RuntimeWarning: overflow encountered in matmul\n",
      "  ret = a @ b\n"
     ]
    },
    {
     "name": "stdout",
     "output_type": "stream",
     "text": [
      "[CV] END activation=relu, hidden_layer_sizes=(100, 50), learning_rate=constant, max_iter=500, solver=sgd; total time= 5.3min\n",
      "[CV] END activation=relu, hidden_layer_sizes=(100, 50), learning_rate=constant, max_iter=1000, solver=adam; total time=10.8min\n",
      "[CV] END activation=relu, hidden_layer_sizes=(100, 50), learning_rate=constant, max_iter=1000, solver=adam; total time=11.1min\n",
      "[CV] END activation=relu, hidden_layer_sizes=(100, 50), learning_rate=constant, max_iter=1000, solver=adam; total time=11.0min\n"
     ]
    },
    {
     "name": "stderr",
     "output_type": "stream",
     "text": [
      "c:\\Users\\khali\\anaconda3\\envs\\F_pi\\Lib\\site-packages\\sklearn\\utils\\extmath.py:205: RuntimeWarning: overflow encountered in matmul\n",
      "  ret = a @ b\n",
      "c:\\Users\\khali\\anaconda3\\envs\\F_pi\\Lib\\site-packages\\sklearn\\neural_network\\_multilayer_perceptron.py:690: ConvergenceWarning: Stochastic Optimizer: Maximum iterations (1000) reached and the optimization hasn't converged yet.\n",
      "  warnings.warn(\n",
      "c:\\Users\\khali\\anaconda3\\envs\\F_pi\\Lib\\site-packages\\sklearn\\utils\\extmath.py:205: RuntimeWarning: overflow encountered in matmul\n",
      "  ret = a @ b\n",
      "c:\\Users\\khali\\anaconda3\\envs\\F_pi\\Lib\\site-packages\\sklearn\\utils\\extmath.py:205: RuntimeWarning: overflow encountered in matmul\n",
      "  ret = a @ b\n"
     ]
    },
    {
     "name": "stdout",
     "output_type": "stream",
     "text": [
      "[CV] END activation=relu, hidden_layer_sizes=(100, 50), learning_rate=constant, max_iter=1000, solver=sgd; total time=10.4min\n"
     ]
    },
    {
     "name": "stderr",
     "output_type": "stream",
     "text": [
      "c:\\Users\\khali\\anaconda3\\envs\\F_pi\\Lib\\site-packages\\sklearn\\neural_network\\_multilayer_perceptron.py:690: ConvergenceWarning: Stochastic Optimizer: Maximum iterations (1000) reached and the optimization hasn't converged yet.\n",
      "  warnings.warn(\n",
      "c:\\Users\\khali\\anaconda3\\envs\\F_pi\\Lib\\site-packages\\sklearn\\utils\\extmath.py:205: RuntimeWarning: overflow encountered in matmul\n",
      "  ret = a @ b\n",
      "c:\\Users\\khali\\anaconda3\\envs\\F_pi\\Lib\\site-packages\\sklearn\\utils\\extmath.py:205: RuntimeWarning: overflow encountered in matmul\n",
      "  ret = a @ b\n"
     ]
    },
    {
     "name": "stdout",
     "output_type": "stream",
     "text": [
      "[CV] END activation=relu, hidden_layer_sizes=(100, 50), learning_rate=constant, max_iter=1000, solver=sgd; total time=11.1min\n"
     ]
    },
    {
     "name": "stderr",
     "output_type": "stream",
     "text": [
      "c:\\Users\\khali\\anaconda3\\envs\\F_pi\\Lib\\site-packages\\sklearn\\neural_network\\_multilayer_perceptron.py:690: ConvergenceWarning: Stochastic Optimizer: Maximum iterations (1000) reached and the optimization hasn't converged yet.\n",
      "  warnings.warn(\n",
      "c:\\Users\\khali\\anaconda3\\envs\\F_pi\\Lib\\site-packages\\sklearn\\utils\\extmath.py:205: RuntimeWarning: overflow encountered in matmul\n",
      "  ret = a @ b\n"
     ]
    },
    {
     "name": "stdout",
     "output_type": "stream",
     "text": [
      "[CV] END activation=relu, hidden_layer_sizes=(100, 50), learning_rate=constant, max_iter=1000, solver=sgd; total time=10.4min\n",
      "[CV] END activation=relu, hidden_layer_sizes=(100, 50), learning_rate=adaptive, max_iter=500, solver=adam; total time=10.8min\n",
      "[CV] END activation=relu, hidden_layer_sizes=(100, 50), learning_rate=adaptive, max_iter=500, solver=adam; total time=11.2min\n",
      "[CV] END activation=relu, hidden_layer_sizes=(100, 50), learning_rate=adaptive, max_iter=500, solver=adam; total time=11.0min\n"
     ]
    },
    {
     "name": "stderr",
     "output_type": "stream",
     "text": [
      "c:\\Users\\khali\\anaconda3\\envs\\F_pi\\Lib\\site-packages\\sklearn\\utils\\extmath.py:205: RuntimeWarning: overflow encountered in matmul\n",
      "  ret = a @ b\n",
      "c:\\Users\\khali\\anaconda3\\envs\\F_pi\\Lib\\site-packages\\sklearn\\neural_network\\_multilayer_perceptron.py:690: ConvergenceWarning: Stochastic Optimizer: Maximum iterations (500) reached and the optimization hasn't converged yet.\n",
      "  warnings.warn(\n",
      "c:\\Users\\khali\\anaconda3\\envs\\F_pi\\Lib\\site-packages\\sklearn\\utils\\extmath.py:205: RuntimeWarning: overflow encountered in matmul\n",
      "  ret = a @ b\n",
      "c:\\Users\\khali\\anaconda3\\envs\\F_pi\\Lib\\site-packages\\sklearn\\utils\\extmath.py:205: RuntimeWarning: overflow encountered in matmul\n",
      "  ret = a @ b\n"
     ]
    },
    {
     "name": "stdout",
     "output_type": "stream",
     "text": [
      "[CV] END activation=relu, hidden_layer_sizes=(100, 50), learning_rate=adaptive, max_iter=500, solver=sgd; total time= 5.3min\n"
     ]
    },
    {
     "name": "stderr",
     "output_type": "stream",
     "text": [
      "c:\\Users\\khali\\anaconda3\\envs\\F_pi\\Lib\\site-packages\\sklearn\\neural_network\\_multilayer_perceptron.py:690: ConvergenceWarning: Stochastic Optimizer: Maximum iterations (500) reached and the optimization hasn't converged yet.\n",
      "  warnings.warn(\n",
      "c:\\Users\\khali\\anaconda3\\envs\\F_pi\\Lib\\site-packages\\sklearn\\utils\\extmath.py:205: RuntimeWarning: overflow encountered in matmul\n",
      "  ret = a @ b\n",
      "c:\\Users\\khali\\anaconda3\\envs\\F_pi\\Lib\\site-packages\\sklearn\\utils\\extmath.py:205: RuntimeWarning: overflow encountered in matmul\n",
      "  ret = a @ b\n"
     ]
    },
    {
     "name": "stdout",
     "output_type": "stream",
     "text": [
      "[CV] END activation=relu, hidden_layer_sizes=(100, 50), learning_rate=adaptive, max_iter=500, solver=sgd; total time= 5.6min\n"
     ]
    },
    {
     "name": "stderr",
     "output_type": "stream",
     "text": [
      "c:\\Users\\khali\\anaconda3\\envs\\F_pi\\Lib\\site-packages\\sklearn\\neural_network\\_multilayer_perceptron.py:690: ConvergenceWarning: Stochastic Optimizer: Maximum iterations (500) reached and the optimization hasn't converged yet.\n",
      "  warnings.warn(\n",
      "c:\\Users\\khali\\anaconda3\\envs\\F_pi\\Lib\\site-packages\\sklearn\\utils\\extmath.py:205: RuntimeWarning: overflow encountered in matmul\n",
      "  ret = a @ b\n"
     ]
    },
    {
     "name": "stdout",
     "output_type": "stream",
     "text": [
      "[CV] END activation=relu, hidden_layer_sizes=(100, 50), learning_rate=adaptive, max_iter=500, solver=sgd; total time= 5.2min\n",
      "[CV] END activation=relu, hidden_layer_sizes=(100, 50), learning_rate=adaptive, max_iter=1000, solver=adam; total time=10.7min\n",
      "[CV] END activation=relu, hidden_layer_sizes=(100, 50), learning_rate=adaptive, max_iter=1000, solver=adam; total time=11.2min\n",
      "[CV] END activation=relu, hidden_layer_sizes=(100, 50), learning_rate=adaptive, max_iter=1000, solver=adam; total time=11.0min\n"
     ]
    },
    {
     "name": "stderr",
     "output_type": "stream",
     "text": [
      "c:\\Users\\khali\\anaconda3\\envs\\F_pi\\Lib\\site-packages\\sklearn\\utils\\extmath.py:205: RuntimeWarning: overflow encountered in matmul\n",
      "  ret = a @ b\n",
      "c:\\Users\\khali\\anaconda3\\envs\\F_pi\\Lib\\site-packages\\sklearn\\neural_network\\_multilayer_perceptron.py:690: ConvergenceWarning: Stochastic Optimizer: Maximum iterations (1000) reached and the optimization hasn't converged yet.\n",
      "  warnings.warn(\n",
      "c:\\Users\\khali\\anaconda3\\envs\\F_pi\\Lib\\site-packages\\sklearn\\utils\\extmath.py:205: RuntimeWarning: overflow encountered in matmul\n",
      "  ret = a @ b\n",
      "c:\\Users\\khali\\anaconda3\\envs\\F_pi\\Lib\\site-packages\\sklearn\\utils\\extmath.py:205: RuntimeWarning: overflow encountered in matmul\n",
      "  ret = a @ b\n"
     ]
    },
    {
     "name": "stdout",
     "output_type": "stream",
     "text": [
      "[CV] END activation=relu, hidden_layer_sizes=(100, 50), learning_rate=adaptive, max_iter=1000, solver=sgd; total time=10.5min\n"
     ]
    },
    {
     "name": "stderr",
     "output_type": "stream",
     "text": [
      "c:\\Users\\khali\\anaconda3\\envs\\F_pi\\Lib\\site-packages\\sklearn\\neural_network\\_multilayer_perceptron.py:690: ConvergenceWarning: Stochastic Optimizer: Maximum iterations (1000) reached and the optimization hasn't converged yet.\n",
      "  warnings.warn(\n",
      "c:\\Users\\khali\\anaconda3\\envs\\F_pi\\Lib\\site-packages\\sklearn\\utils\\extmath.py:205: RuntimeWarning: overflow encountered in matmul\n",
      "  ret = a @ b\n",
      "c:\\Users\\khali\\anaconda3\\envs\\F_pi\\Lib\\site-packages\\sklearn\\utils\\extmath.py:205: RuntimeWarning: overflow encountered in matmul\n",
      "  ret = a @ b\n"
     ]
    },
    {
     "name": "stdout",
     "output_type": "stream",
     "text": [
      "[CV] END activation=relu, hidden_layer_sizes=(100, 50), learning_rate=adaptive, max_iter=1000, solver=sgd; total time=11.0min\n"
     ]
    },
    {
     "name": "stderr",
     "output_type": "stream",
     "text": [
      "c:\\Users\\khali\\anaconda3\\envs\\F_pi\\Lib\\site-packages\\sklearn\\neural_network\\_multilayer_perceptron.py:690: ConvergenceWarning: Stochastic Optimizer: Maximum iterations (1000) reached and the optimization hasn't converged yet.\n",
      "  warnings.warn(\n",
      "c:\\Users\\khali\\anaconda3\\envs\\F_pi\\Lib\\site-packages\\sklearn\\utils\\extmath.py:205: RuntimeWarning: overflow encountered in matmul\n",
      "  ret = a @ b\n"
     ]
    },
    {
     "name": "stdout",
     "output_type": "stream",
     "text": [
      "[CV] END activation=relu, hidden_layer_sizes=(100, 50), learning_rate=adaptive, max_iter=1000, solver=sgd; total time=10.4min\n",
      "[CV] END activation=tanh, hidden_layer_sizes=(50, 50), learning_rate=constant, max_iter=500, solver=adam; total time= 3.3min\n",
      "[CV] END activation=tanh, hidden_layer_sizes=(50, 50), learning_rate=constant, max_iter=500, solver=adam; total time= 3.5min\n",
      "[CV] END activation=tanh, hidden_layer_sizes=(50, 50), learning_rate=constant, max_iter=500, solver=adam; total time= 3.5min\n",
      "[CV] END activation=tanh, hidden_layer_sizes=(50, 50), learning_rate=constant, max_iter=500, solver=sgd; total time=  31.8s\n",
      "[CV] END activation=tanh, hidden_layer_sizes=(50, 50), learning_rate=constant, max_iter=500, solver=sgd; total time=  12.3s\n",
      "[CV] END activation=tanh, hidden_layer_sizes=(50, 50), learning_rate=constant, max_iter=500, solver=sgd; total time=  20.6s\n",
      "[CV] END activation=tanh, hidden_layer_sizes=(50, 50), learning_rate=constant, max_iter=1000, solver=adam; total time= 3.4min\n",
      "[CV] END activation=tanh, hidden_layer_sizes=(50, 50), learning_rate=constant, max_iter=1000, solver=adam; total time= 3.4min\n",
      "[CV] END activation=tanh, hidden_layer_sizes=(50, 50), learning_rate=constant, max_iter=1000, solver=adam; total time= 3.5min\n",
      "[CV] END activation=tanh, hidden_layer_sizes=(50, 50), learning_rate=constant, max_iter=1000, solver=sgd; total time=  31.9s\n",
      "[CV] END activation=tanh, hidden_layer_sizes=(50, 50), learning_rate=constant, max_iter=1000, solver=sgd; total time=  12.6s\n",
      "[CV] END activation=tanh, hidden_layer_sizes=(50, 50), learning_rate=constant, max_iter=1000, solver=sgd; total time=  20.9s\n",
      "[CV] END activation=tanh, hidden_layer_sizes=(50, 50), learning_rate=adaptive, max_iter=500, solver=adam; total time= 3.4min\n",
      "[CV] END activation=tanh, hidden_layer_sizes=(50, 50), learning_rate=adaptive, max_iter=500, solver=adam; total time= 3.4min\n",
      "[CV] END activation=tanh, hidden_layer_sizes=(50, 50), learning_rate=adaptive, max_iter=500, solver=adam; total time= 3.5min\n",
      "[CV] END activation=tanh, hidden_layer_sizes=(50, 50), learning_rate=adaptive, max_iter=500, solver=sgd; total time= 4.5min\n"
     ]
    },
    {
     "name": "stderr",
     "output_type": "stream",
     "text": [
      "c:\\Users\\khali\\anaconda3\\envs\\F_pi\\Lib\\site-packages\\sklearn\\neural_network\\_multilayer_perceptron.py:690: ConvergenceWarning: Stochastic Optimizer: Maximum iterations (500) reached and the optimization hasn't converged yet.\n",
      "  warnings.warn(\n"
     ]
    },
    {
     "name": "stdout",
     "output_type": "stream",
     "text": [
      "[CV] END activation=tanh, hidden_layer_sizes=(50, 50), learning_rate=adaptive, max_iter=500, solver=sgd; total time= 5.0min\n",
      "[CV] END activation=tanh, hidden_layer_sizes=(50, 50), learning_rate=adaptive, max_iter=500, solver=sgd; total time= 4.5min\n",
      "[CV] END activation=tanh, hidden_layer_sizes=(50, 50), learning_rate=adaptive, max_iter=1000, solver=adam; total time= 3.3min\n",
      "[CV] END activation=tanh, hidden_layer_sizes=(50, 50), learning_rate=adaptive, max_iter=1000, solver=adam; total time= 3.3min\n",
      "[CV] END activation=tanh, hidden_layer_sizes=(50, 50), learning_rate=adaptive, max_iter=1000, solver=adam; total time= 3.4min\n",
      "[CV] END activation=tanh, hidden_layer_sizes=(50, 50), learning_rate=adaptive, max_iter=1000, solver=sgd; total time= 4.4min\n"
     ]
    },
    {
     "name": "stderr",
     "output_type": "stream",
     "text": [
      "c:\\Users\\khali\\anaconda3\\envs\\F_pi\\Lib\\site-packages\\sklearn\\neural_network\\_multilayer_perceptron.py:690: ConvergenceWarning: Stochastic Optimizer: Maximum iterations (1000) reached and the optimization hasn't converged yet.\n",
      "  warnings.warn(\n"
     ]
    },
    {
     "name": "stdout",
     "output_type": "stream",
     "text": [
      "[CV] END activation=tanh, hidden_layer_sizes=(50, 50), learning_rate=adaptive, max_iter=1000, solver=sgd; total time=10.1min\n",
      "[CV] END activation=tanh, hidden_layer_sizes=(50, 50), learning_rate=adaptive, max_iter=1000, solver=sgd; total time= 4.5min\n",
      "[CV] END activation=tanh, hidden_layer_sizes=(100,), learning_rate=constant, max_iter=500, solver=adam; total time= 3.3min\n",
      "[CV] END activation=tanh, hidden_layer_sizes=(100,), learning_rate=constant, max_iter=500, solver=adam; total time= 3.5min\n",
      "[CV] END activation=tanh, hidden_layer_sizes=(100,), learning_rate=constant, max_iter=500, solver=adam; total time= 3.0min\n",
      "[CV] END activation=tanh, hidden_layer_sizes=(100,), learning_rate=constant, max_iter=500, solver=sgd; total time= 2.6min\n",
      "[CV] END activation=tanh, hidden_layer_sizes=(100,), learning_rate=constant, max_iter=500, solver=sgd; total time= 1.3min\n",
      "[CV] END activation=tanh, hidden_layer_sizes=(100,), learning_rate=constant, max_iter=500, solver=sgd; total time= 2.1min\n",
      "[CV] END activation=tanh, hidden_layer_sizes=(100,), learning_rate=constant, max_iter=1000, solver=adam; total time= 3.3min\n",
      "[CV] END activation=tanh, hidden_layer_sizes=(100,), learning_rate=constant, max_iter=1000, solver=adam; total time= 3.5min\n",
      "[CV] END activation=tanh, hidden_layer_sizes=(100,), learning_rate=constant, max_iter=1000, solver=adam; total time= 3.1min\n",
      "[CV] END activation=tanh, hidden_layer_sizes=(100,), learning_rate=constant, max_iter=1000, solver=sgd; total time= 2.8min\n",
      "[CV] END activation=tanh, hidden_layer_sizes=(100,), learning_rate=constant, max_iter=1000, solver=sgd; total time= 1.3min\n",
      "[CV] END activation=tanh, hidden_layer_sizes=(100,), learning_rate=constant, max_iter=1000, solver=sgd; total time= 2.1min\n",
      "[CV] END activation=tanh, hidden_layer_sizes=(100,), learning_rate=adaptive, max_iter=500, solver=adam; total time= 3.3min\n",
      "[CV] END activation=tanh, hidden_layer_sizes=(100,), learning_rate=adaptive, max_iter=500, solver=adam; total time= 3.5min\n",
      "[CV] END activation=tanh, hidden_layer_sizes=(100,), learning_rate=adaptive, max_iter=500, solver=adam; total time= 3.1min\n"
     ]
    },
    {
     "name": "stderr",
     "output_type": "stream",
     "text": [
      "c:\\Users\\khali\\anaconda3\\envs\\F_pi\\Lib\\site-packages\\sklearn\\neural_network\\_multilayer_perceptron.py:690: ConvergenceWarning: Stochastic Optimizer: Maximum iterations (500) reached and the optimization hasn't converged yet.\n",
      "  warnings.warn(\n"
     ]
    },
    {
     "name": "stdout",
     "output_type": "stream",
     "text": [
      "[CV] END activation=tanh, hidden_layer_sizes=(100,), learning_rate=adaptive, max_iter=500, solver=sgd; total time= 4.1min\n"
     ]
    },
    {
     "name": "stderr",
     "output_type": "stream",
     "text": [
      "c:\\Users\\khali\\anaconda3\\envs\\F_pi\\Lib\\site-packages\\sklearn\\neural_network\\_multilayer_perceptron.py:690: ConvergenceWarning: Stochastic Optimizer: Maximum iterations (500) reached and the optimization hasn't converged yet.\n",
      "  warnings.warn(\n"
     ]
    },
    {
     "name": "stdout",
     "output_type": "stream",
     "text": [
      "[CV] END activation=tanh, hidden_layer_sizes=(100,), learning_rate=adaptive, max_iter=500, solver=sgd; total time= 4.0min\n"
     ]
    },
    {
     "name": "stderr",
     "output_type": "stream",
     "text": [
      "c:\\Users\\khali\\anaconda3\\envs\\F_pi\\Lib\\site-packages\\sklearn\\neural_network\\_multilayer_perceptron.py:690: ConvergenceWarning: Stochastic Optimizer: Maximum iterations (500) reached and the optimization hasn't converged yet.\n",
      "  warnings.warn(\n"
     ]
    },
    {
     "name": "stdout",
     "output_type": "stream",
     "text": [
      "[CV] END activation=tanh, hidden_layer_sizes=(100,), learning_rate=adaptive, max_iter=500, solver=sgd; total time= 4.4min\n",
      "[CV] END activation=tanh, hidden_layer_sizes=(100,), learning_rate=adaptive, max_iter=1000, solver=adam; total time= 4.4min\n",
      "[CV] END activation=tanh, hidden_layer_sizes=(100,), learning_rate=adaptive, max_iter=1000, solver=adam; total time= 3.5min\n",
      "[CV] END activation=tanh, hidden_layer_sizes=(100,), learning_rate=adaptive, max_iter=1000, solver=adam; total time= 3.1min\n"
     ]
    },
    {
     "name": "stderr",
     "output_type": "stream",
     "text": [
      "c:\\Users\\khali\\anaconda3\\envs\\F_pi\\Lib\\site-packages\\sklearn\\neural_network\\_multilayer_perceptron.py:690: ConvergenceWarning: Stochastic Optimizer: Maximum iterations (1000) reached and the optimization hasn't converged yet.\n",
      "  warnings.warn(\n"
     ]
    },
    {
     "name": "stdout",
     "output_type": "stream",
     "text": [
      "[CV] END activation=tanh, hidden_layer_sizes=(100,), learning_rate=adaptive, max_iter=1000, solver=sgd; total time= 8.1min\n"
     ]
    },
    {
     "name": "stderr",
     "output_type": "stream",
     "text": [
      "c:\\Users\\khali\\anaconda3\\envs\\F_pi\\Lib\\site-packages\\sklearn\\neural_network\\_multilayer_perceptron.py:690: ConvergenceWarning: Stochastic Optimizer: Maximum iterations (1000) reached and the optimization hasn't converged yet.\n",
      "  warnings.warn(\n"
     ]
    },
    {
     "name": "stdout",
     "output_type": "stream",
     "text": [
      "[CV] END activation=tanh, hidden_layer_sizes=(100,), learning_rate=adaptive, max_iter=1000, solver=sgd; total time= 8.1min\n"
     ]
    },
    {
     "name": "stderr",
     "output_type": "stream",
     "text": [
      "c:\\Users\\khali\\anaconda3\\envs\\F_pi\\Lib\\site-packages\\sklearn\\neural_network\\_multilayer_perceptron.py:690: ConvergenceWarning: Stochastic Optimizer: Maximum iterations (1000) reached and the optimization hasn't converged yet.\n",
      "  warnings.warn(\n"
     ]
    },
    {
     "name": "stdout",
     "output_type": "stream",
     "text": [
      "[CV] END activation=tanh, hidden_layer_sizes=(100,), learning_rate=adaptive, max_iter=1000, solver=sgd; total time= 8.0min\n",
      "[CV] END activation=tanh, hidden_layer_sizes=(100, 50), learning_rate=constant, max_iter=500, solver=adam; total time= 4.1min\n",
      "[CV] END activation=tanh, hidden_layer_sizes=(100, 50), learning_rate=constant, max_iter=500, solver=adam; total time= 4.2min\n",
      "[CV] END activation=tanh, hidden_layer_sizes=(100, 50), learning_rate=constant, max_iter=500, solver=adam; total time= 4.0min\n",
      "[CV] END activation=tanh, hidden_layer_sizes=(100, 50), learning_rate=constant, max_iter=500, solver=sgd; total time= 1.1min\n",
      "[CV] END activation=tanh, hidden_layer_sizes=(100, 50), learning_rate=constant, max_iter=500, solver=sgd; total time= 1.3min\n",
      "[CV] END activation=tanh, hidden_layer_sizes=(100, 50), learning_rate=constant, max_iter=500, solver=sgd; total time= 1.1min\n",
      "[CV] END activation=tanh, hidden_layer_sizes=(100, 50), learning_rate=constant, max_iter=1000, solver=adam; total time= 4.1min\n",
      "[CV] END activation=tanh, hidden_layer_sizes=(100, 50), learning_rate=constant, max_iter=1000, solver=adam; total time= 4.2min\n",
      "[CV] END activation=tanh, hidden_layer_sizes=(100, 50), learning_rate=constant, max_iter=1000, solver=adam; total time= 4.2min\n",
      "[CV] END activation=tanh, hidden_layer_sizes=(100, 50), learning_rate=constant, max_iter=1000, solver=sgd; total time= 1.1min\n",
      "[CV] END activation=tanh, hidden_layer_sizes=(100, 50), learning_rate=constant, max_iter=1000, solver=sgd; total time= 1.3min\n",
      "[CV] END activation=tanh, hidden_layer_sizes=(100, 50), learning_rate=constant, max_iter=1000, solver=sgd; total time= 1.1min\n",
      "[CV] END activation=tanh, hidden_layer_sizes=(100, 50), learning_rate=adaptive, max_iter=500, solver=adam; total time= 4.1min\n",
      "[CV] END activation=tanh, hidden_layer_sizes=(100, 50), learning_rate=adaptive, max_iter=500, solver=adam; total time= 4.3min\n",
      "[CV] END activation=tanh, hidden_layer_sizes=(100, 50), learning_rate=adaptive, max_iter=500, solver=adam; total time= 4.1min\n"
     ]
    },
    {
     "name": "stderr",
     "output_type": "stream",
     "text": [
      "c:\\Users\\khali\\anaconda3\\envs\\F_pi\\Lib\\site-packages\\sklearn\\neural_network\\_multilayer_perceptron.py:690: ConvergenceWarning: Stochastic Optimizer: Maximum iterations (500) reached and the optimization hasn't converged yet.\n",
      "  warnings.warn(\n"
     ]
    },
    {
     "name": "stdout",
     "output_type": "stream",
     "text": [
      "[CV] END activation=tanh, hidden_layer_sizes=(100, 50), learning_rate=adaptive, max_iter=500, solver=sgd; total time= 6.7min\n"
     ]
    },
    {
     "name": "stderr",
     "output_type": "stream",
     "text": [
      "c:\\Users\\khali\\anaconda3\\envs\\F_pi\\Lib\\site-packages\\sklearn\\neural_network\\_multilayer_perceptron.py:690: ConvergenceWarning: Stochastic Optimizer: Maximum iterations (500) reached and the optimization hasn't converged yet.\n",
      "  warnings.warn(\n"
     ]
    },
    {
     "name": "stdout",
     "output_type": "stream",
     "text": [
      "[CV] END activation=tanh, hidden_layer_sizes=(100, 50), learning_rate=adaptive, max_iter=500, solver=sgd; total time= 6.6min\n",
      "[CV] END activation=tanh, hidden_layer_sizes=(100, 50), learning_rate=adaptive, max_iter=500, solver=sgd; total time= 4.4min\n",
      "[CV] END activation=tanh, hidden_layer_sizes=(100, 50), learning_rate=adaptive, max_iter=1000, solver=adam; total time= 4.1min\n",
      "[CV] END activation=tanh, hidden_layer_sizes=(100, 50), learning_rate=adaptive, max_iter=1000, solver=adam; total time= 4.2min\n",
      "[CV] END activation=tanh, hidden_layer_sizes=(100, 50), learning_rate=adaptive, max_iter=1000, solver=adam; total time= 4.1min\n"
     ]
    },
    {
     "name": "stderr",
     "output_type": "stream",
     "text": [
      "c:\\Users\\khali\\anaconda3\\envs\\F_pi\\Lib\\site-packages\\sklearn\\neural_network\\_multilayer_perceptron.py:690: ConvergenceWarning: Stochastic Optimizer: Maximum iterations (1000) reached and the optimization hasn't converged yet.\n",
      "  warnings.warn(\n"
     ]
    },
    {
     "name": "stdout",
     "output_type": "stream",
     "text": [
      "[CV] END activation=tanh, hidden_layer_sizes=(100, 50), learning_rate=adaptive, max_iter=1000, solver=sgd; total time=13.4min\n"
     ]
    },
    {
     "name": "stderr",
     "output_type": "stream",
     "text": [
      "c:\\Users\\khali\\anaconda3\\envs\\F_pi\\Lib\\site-packages\\sklearn\\neural_network\\_multilayer_perceptron.py:690: ConvergenceWarning: Stochastic Optimizer: Maximum iterations (1000) reached and the optimization hasn't converged yet.\n",
      "  warnings.warn(\n"
     ]
    },
    {
     "name": "stdout",
     "output_type": "stream",
     "text": [
      "[CV] END activation=tanh, hidden_layer_sizes=(100, 50), learning_rate=adaptive, max_iter=1000, solver=sgd; total time=13.2min\n",
      "[CV] END activation=tanh, hidden_layer_sizes=(100, 50), learning_rate=adaptive, max_iter=1000, solver=sgd; total time= 4.6min\n"
     ]
    },
    {
     "name": "stderr",
     "output_type": "stream",
     "text": [
      "c:\\Users\\khali\\anaconda3\\envs\\F_pi\\Lib\\site-packages\\sklearn\\model_selection\\_validation.py:540: FitFailedWarning: \n",
      "16 fits failed out of a total of 144.\n",
      "The score on these train-test partitions for these parameters will be set to nan.\n",
      "If these failures are not expected, you can try to debug them by setting error_score='raise'.\n",
      "\n",
      "Below are more details about the failures:\n",
      "--------------------------------------------------------------------------------\n",
      "16 fits failed with the following error:\n",
      "Traceback (most recent call last):\n",
      "  File \"c:\\Users\\khali\\anaconda3\\envs\\F_pi\\Lib\\site-packages\\sklearn\\model_selection\\_validation.py\", line 888, in _fit_and_score\n",
      "    estimator.fit(X_train, y_train, **fit_params)\n",
      "  File \"c:\\Users\\khali\\anaconda3\\envs\\F_pi\\Lib\\site-packages\\sklearn\\base.py\", line 1473, in wrapper\n",
      "    return fit_method(estimator, *args, **kwargs)\n",
      "           ^^^^^^^^^^^^^^^^^^^^^^^^^^^^^^^^^^^^^^\n",
      "  File \"c:\\Users\\khali\\anaconda3\\envs\\F_pi\\Lib\\site-packages\\sklearn\\neural_network\\_multilayer_perceptron.py\", line 751, in fit\n",
      "    return self._fit(X, y, incremental=False)\n",
      "           ^^^^^^^^^^^^^^^^^^^^^^^^^^^^^^^^^^\n",
      "  File \"c:\\Users\\khali\\anaconda3\\envs\\F_pi\\Lib\\site-packages\\sklearn\\neural_network\\_multilayer_perceptron.py\", line 495, in _fit\n",
      "    raise ValueError(\n",
      "ValueError: Solver produced non-finite parameter weights. The input data may contain large values and need to be preprocessed.\n",
      "\n",
      "  warnings.warn(some_fits_failed_message, FitFailedWarning)\n",
      "c:\\Users\\khali\\anaconda3\\envs\\F_pi\\Lib\\site-packages\\sklearn\\model_selection\\_search.py:1103: UserWarning: One or more of the test scores are non-finite: [-8.39610866e-01             nan -8.39610866e-01             nan\n",
      " -8.39610866e-01             nan -8.39610866e-01             nan\n",
      " -7.32292552e-01             nan -4.09193083e-01             nan\n",
      " -7.32292552e-01             nan -4.09193083e-01             nan\n",
      " -1.16827049e+00 -1.02551111e+03 -1.16827049e+00 -1.02548322e+03\n",
      " -1.16827049e+00 -1.02551111e+03 -1.16827049e+00 -1.02548322e+03\n",
      " -8.07062855e-01 -2.17836943e+02 -8.07062855e-01 -2.17836943e+02\n",
      " -8.07062855e-01 -1.52335795e+02 -8.07062855e-01 -1.52332941e+02\n",
      " -2.57056733e-01 -1.94390255e+01 -2.57056733e-01 -1.94390255e+01\n",
      " -2.57056733e-01 -9.72183997e+00 -2.57056733e-01 -3.43646093e+00\n",
      " -1.40685537e+00 -1.68052871e+02 -1.40685537e+00 -1.68052871e+02\n",
      " -1.40685537e+00 -1.34537474e+02 -1.40685537e+00 -1.34521241e+02]\n",
      "  warnings.warn(\n"
     ]
    },
    {
     "name": "stdout",
     "output_type": "stream",
     "text": [
      "Best parameters found: {'activation': 'tanh', 'hidden_layer_sizes': (100,), 'learning_rate': 'constant', 'max_iter': 500, 'solver': 'adam'}\n",
      "mae 0.2575953266595813\n",
      "Mse 0.1169574201806161\n",
      "r2_score 0.9999999179597506\n"
     ]
    }
   ],
   "source": [
    "from sklearn.model_selection import GridSearchCV\n",
    "\n",
    "# Define the hyperparameter grid\n",
    "param_grid = {\n",
    "    'hidden_layer_sizes': [(50, 50), (100,), (100, 50)],\n",
    "    'activation': ['relu', 'tanh'],\n",
    "    'solver': ['adam', 'sgd'],\n",
    "    'learning_rate': ['constant', 'adaptive'],\n",
    "    'max_iter': [500, 1000]\n",
    "}\n",
    "\n",
    "# Create the MLP model\n",
    "mlp_model = MLPRegressor(random_state=42)\n",
    "\n",
    "# Perform GridSearchCV\n",
    "grid_search = GridSearchCV(estimator=mlp_model, param_grid=param_grid, \n",
    "                           scoring='neg_mean_absolute_error', cv=3, verbose=2)\n",
    "\n",
    "# Fit the model on the training data\n",
    "grid_search.fit(X_train_scaled, y_train)\n",
    "\n",
    "# Get the best parameters\n",
    "best_params = grid_search.best_params_\n",
    "\n",
    "# Display the best parameters\n",
    "print(f\"Best parameters found: {best_params}\")\n",
    "\n",
    "# Use the best model for predictions\n",
    "best_mlp_model = grid_search.best_estimator_\n",
    "mlp_results = evaluate_model(best_mlp_model, X_train_scaled, X_val_scaled, y_train, y_val)\n"
   ]
  },
  {
   "cell_type": "code",
   "execution_count": 14,
   "metadata": {},
   "outputs": [
    {
     "data": {
      "text/plain": [
       "(0.2575953266595813,\n",
       " 0.1169574201806161,\n",
       " 0.9999999179597506,\n",
       " MLPRegressor(activation='tanh', max_iter=500, random_state=42))"
      ]
     },
     "execution_count": 14,
     "metadata": {},
     "output_type": "execute_result"
    }
   ],
   "source": [
    "mlp_results\n"
   ]
  },
  {
   "cell_type": "code",
   "execution_count": 15,
   "metadata": {},
   "outputs": [
    {
     "data": {
      "text/html": [
       "<style>#sk-container-id-1 {\n",
       "  /* Definition of color scheme common for light and dark mode */\n",
       "  --sklearn-color-text: black;\n",
       "  --sklearn-color-line: gray;\n",
       "  /* Definition of color scheme for unfitted estimators */\n",
       "  --sklearn-color-unfitted-level-0: #fff5e6;\n",
       "  --sklearn-color-unfitted-level-1: #f6e4d2;\n",
       "  --sklearn-color-unfitted-level-2: #ffe0b3;\n",
       "  --sklearn-color-unfitted-level-3: chocolate;\n",
       "  /* Definition of color scheme for fitted estimators */\n",
       "  --sklearn-color-fitted-level-0: #f0f8ff;\n",
       "  --sklearn-color-fitted-level-1: #d4ebff;\n",
       "  --sklearn-color-fitted-level-2: #b3dbfd;\n",
       "  --sklearn-color-fitted-level-3: cornflowerblue;\n",
       "\n",
       "  /* Specific color for light theme */\n",
       "  --sklearn-color-text-on-default-background: var(--sg-text-color, var(--theme-code-foreground, var(--jp-content-font-color1, black)));\n",
       "  --sklearn-color-background: var(--sg-background-color, var(--theme-background, var(--jp-layout-color0, white)));\n",
       "  --sklearn-color-border-box: var(--sg-text-color, var(--theme-code-foreground, var(--jp-content-font-color1, black)));\n",
       "  --sklearn-color-icon: #696969;\n",
       "\n",
       "  @media (prefers-color-scheme: dark) {\n",
       "    /* Redefinition of color scheme for dark theme */\n",
       "    --sklearn-color-text-on-default-background: var(--sg-text-color, var(--theme-code-foreground, var(--jp-content-font-color1, white)));\n",
       "    --sklearn-color-background: var(--sg-background-color, var(--theme-background, var(--jp-layout-color0, #111)));\n",
       "    --sklearn-color-border-box: var(--sg-text-color, var(--theme-code-foreground, var(--jp-content-font-color1, white)));\n",
       "    --sklearn-color-icon: #878787;\n",
       "  }\n",
       "}\n",
       "\n",
       "#sk-container-id-1 {\n",
       "  color: var(--sklearn-color-text);\n",
       "}\n",
       "\n",
       "#sk-container-id-1 pre {\n",
       "  padding: 0;\n",
       "}\n",
       "\n",
       "#sk-container-id-1 input.sk-hidden--visually {\n",
       "  border: 0;\n",
       "  clip: rect(1px 1px 1px 1px);\n",
       "  clip: rect(1px, 1px, 1px, 1px);\n",
       "  height: 1px;\n",
       "  margin: -1px;\n",
       "  overflow: hidden;\n",
       "  padding: 0;\n",
       "  position: absolute;\n",
       "  width: 1px;\n",
       "}\n",
       "\n",
       "#sk-container-id-1 div.sk-dashed-wrapped {\n",
       "  border: 1px dashed var(--sklearn-color-line);\n",
       "  margin: 0 0.4em 0.5em 0.4em;\n",
       "  box-sizing: border-box;\n",
       "  padding-bottom: 0.4em;\n",
       "  background-color: var(--sklearn-color-background);\n",
       "}\n",
       "\n",
       "#sk-container-id-1 div.sk-container {\n",
       "  /* jupyter's `normalize.less` sets `[hidden] { display: none; }`\n",
       "     but bootstrap.min.css set `[hidden] { display: none !important; }`\n",
       "     so we also need the `!important` here to be able to override the\n",
       "     default hidden behavior on the sphinx rendered scikit-learn.org.\n",
       "     See: https://github.com/scikit-learn/scikit-learn/issues/21755 */\n",
       "  display: inline-block !important;\n",
       "  position: relative;\n",
       "}\n",
       "\n",
       "#sk-container-id-1 div.sk-text-repr-fallback {\n",
       "  display: none;\n",
       "}\n",
       "\n",
       "div.sk-parallel-item,\n",
       "div.sk-serial,\n",
       "div.sk-item {\n",
       "  /* draw centered vertical line to link estimators */\n",
       "  background-image: linear-gradient(var(--sklearn-color-text-on-default-background), var(--sklearn-color-text-on-default-background));\n",
       "  background-size: 2px 100%;\n",
       "  background-repeat: no-repeat;\n",
       "  background-position: center center;\n",
       "}\n",
       "\n",
       "/* Parallel-specific style estimator block */\n",
       "\n",
       "#sk-container-id-1 div.sk-parallel-item::after {\n",
       "  content: \"\";\n",
       "  width: 100%;\n",
       "  border-bottom: 2px solid var(--sklearn-color-text-on-default-background);\n",
       "  flex-grow: 1;\n",
       "}\n",
       "\n",
       "#sk-container-id-1 div.sk-parallel {\n",
       "  display: flex;\n",
       "  align-items: stretch;\n",
       "  justify-content: center;\n",
       "  background-color: var(--sklearn-color-background);\n",
       "  position: relative;\n",
       "}\n",
       "\n",
       "#sk-container-id-1 div.sk-parallel-item {\n",
       "  display: flex;\n",
       "  flex-direction: column;\n",
       "}\n",
       "\n",
       "#sk-container-id-1 div.sk-parallel-item:first-child::after {\n",
       "  align-self: flex-end;\n",
       "  width: 50%;\n",
       "}\n",
       "\n",
       "#sk-container-id-1 div.sk-parallel-item:last-child::after {\n",
       "  align-self: flex-start;\n",
       "  width: 50%;\n",
       "}\n",
       "\n",
       "#sk-container-id-1 div.sk-parallel-item:only-child::after {\n",
       "  width: 0;\n",
       "}\n",
       "\n",
       "/* Serial-specific style estimator block */\n",
       "\n",
       "#sk-container-id-1 div.sk-serial {\n",
       "  display: flex;\n",
       "  flex-direction: column;\n",
       "  align-items: center;\n",
       "  background-color: var(--sklearn-color-background);\n",
       "  padding-right: 1em;\n",
       "  padding-left: 1em;\n",
       "}\n",
       "\n",
       "\n",
       "/* Toggleable style: style used for estimator/Pipeline/ColumnTransformer box that is\n",
       "clickable and can be expanded/collapsed.\n",
       "- Pipeline and ColumnTransformer use this feature and define the default style\n",
       "- Estimators will overwrite some part of the style using the `sk-estimator` class\n",
       "*/\n",
       "\n",
       "/* Pipeline and ColumnTransformer style (default) */\n",
       "\n",
       "#sk-container-id-1 div.sk-toggleable {\n",
       "  /* Default theme specific background. It is overwritten whether we have a\n",
       "  specific estimator or a Pipeline/ColumnTransformer */\n",
       "  background-color: var(--sklearn-color-background);\n",
       "}\n",
       "\n",
       "/* Toggleable label */\n",
       "#sk-container-id-1 label.sk-toggleable__label {\n",
       "  cursor: pointer;\n",
       "  display: block;\n",
       "  width: 100%;\n",
       "  margin-bottom: 0;\n",
       "  padding: 0.5em;\n",
       "  box-sizing: border-box;\n",
       "  text-align: center;\n",
       "}\n",
       "\n",
       "#sk-container-id-1 label.sk-toggleable__label-arrow:before {\n",
       "  /* Arrow on the left of the label */\n",
       "  content: \"▸\";\n",
       "  float: left;\n",
       "  margin-right: 0.25em;\n",
       "  color: var(--sklearn-color-icon);\n",
       "}\n",
       "\n",
       "#sk-container-id-1 label.sk-toggleable__label-arrow:hover:before {\n",
       "  color: var(--sklearn-color-text);\n",
       "}\n",
       "\n",
       "/* Toggleable content - dropdown */\n",
       "\n",
       "#sk-container-id-1 div.sk-toggleable__content {\n",
       "  max-height: 0;\n",
       "  max-width: 0;\n",
       "  overflow: hidden;\n",
       "  text-align: left;\n",
       "  /* unfitted */\n",
       "  background-color: var(--sklearn-color-unfitted-level-0);\n",
       "}\n",
       "\n",
       "#sk-container-id-1 div.sk-toggleable__content.fitted {\n",
       "  /* fitted */\n",
       "  background-color: var(--sklearn-color-fitted-level-0);\n",
       "}\n",
       "\n",
       "#sk-container-id-1 div.sk-toggleable__content pre {\n",
       "  margin: 0.2em;\n",
       "  border-radius: 0.25em;\n",
       "  color: var(--sklearn-color-text);\n",
       "  /* unfitted */\n",
       "  background-color: var(--sklearn-color-unfitted-level-0);\n",
       "}\n",
       "\n",
       "#sk-container-id-1 div.sk-toggleable__content.fitted pre {\n",
       "  /* unfitted */\n",
       "  background-color: var(--sklearn-color-fitted-level-0);\n",
       "}\n",
       "\n",
       "#sk-container-id-1 input.sk-toggleable__control:checked~div.sk-toggleable__content {\n",
       "  /* Expand drop-down */\n",
       "  max-height: 200px;\n",
       "  max-width: 100%;\n",
       "  overflow: auto;\n",
       "}\n",
       "\n",
       "#sk-container-id-1 input.sk-toggleable__control:checked~label.sk-toggleable__label-arrow:before {\n",
       "  content: \"▾\";\n",
       "}\n",
       "\n",
       "/* Pipeline/ColumnTransformer-specific style */\n",
       "\n",
       "#sk-container-id-1 div.sk-label input.sk-toggleable__control:checked~label.sk-toggleable__label {\n",
       "  color: var(--sklearn-color-text);\n",
       "  background-color: var(--sklearn-color-unfitted-level-2);\n",
       "}\n",
       "\n",
       "#sk-container-id-1 div.sk-label.fitted input.sk-toggleable__control:checked~label.sk-toggleable__label {\n",
       "  background-color: var(--sklearn-color-fitted-level-2);\n",
       "}\n",
       "\n",
       "/* Estimator-specific style */\n",
       "\n",
       "/* Colorize estimator box */\n",
       "#sk-container-id-1 div.sk-estimator input.sk-toggleable__control:checked~label.sk-toggleable__label {\n",
       "  /* unfitted */\n",
       "  background-color: var(--sklearn-color-unfitted-level-2);\n",
       "}\n",
       "\n",
       "#sk-container-id-1 div.sk-estimator.fitted input.sk-toggleable__control:checked~label.sk-toggleable__label {\n",
       "  /* fitted */\n",
       "  background-color: var(--sklearn-color-fitted-level-2);\n",
       "}\n",
       "\n",
       "#sk-container-id-1 div.sk-label label.sk-toggleable__label,\n",
       "#sk-container-id-1 div.sk-label label {\n",
       "  /* The background is the default theme color */\n",
       "  color: var(--sklearn-color-text-on-default-background);\n",
       "}\n",
       "\n",
       "/* On hover, darken the color of the background */\n",
       "#sk-container-id-1 div.sk-label:hover label.sk-toggleable__label {\n",
       "  color: var(--sklearn-color-text);\n",
       "  background-color: var(--sklearn-color-unfitted-level-2);\n",
       "}\n",
       "\n",
       "/* Label box, darken color on hover, fitted */\n",
       "#sk-container-id-1 div.sk-label.fitted:hover label.sk-toggleable__label.fitted {\n",
       "  color: var(--sklearn-color-text);\n",
       "  background-color: var(--sklearn-color-fitted-level-2);\n",
       "}\n",
       "\n",
       "/* Estimator label */\n",
       "\n",
       "#sk-container-id-1 div.sk-label label {\n",
       "  font-family: monospace;\n",
       "  font-weight: bold;\n",
       "  display: inline-block;\n",
       "  line-height: 1.2em;\n",
       "}\n",
       "\n",
       "#sk-container-id-1 div.sk-label-container {\n",
       "  text-align: center;\n",
       "}\n",
       "\n",
       "/* Estimator-specific */\n",
       "#sk-container-id-1 div.sk-estimator {\n",
       "  font-family: monospace;\n",
       "  border: 1px dotted var(--sklearn-color-border-box);\n",
       "  border-radius: 0.25em;\n",
       "  box-sizing: border-box;\n",
       "  margin-bottom: 0.5em;\n",
       "  /* unfitted */\n",
       "  background-color: var(--sklearn-color-unfitted-level-0);\n",
       "}\n",
       "\n",
       "#sk-container-id-1 div.sk-estimator.fitted {\n",
       "  /* fitted */\n",
       "  background-color: var(--sklearn-color-fitted-level-0);\n",
       "}\n",
       "\n",
       "/* on hover */\n",
       "#sk-container-id-1 div.sk-estimator:hover {\n",
       "  /* unfitted */\n",
       "  background-color: var(--sklearn-color-unfitted-level-2);\n",
       "}\n",
       "\n",
       "#sk-container-id-1 div.sk-estimator.fitted:hover {\n",
       "  /* fitted */\n",
       "  background-color: var(--sklearn-color-fitted-level-2);\n",
       "}\n",
       "\n",
       "/* Specification for estimator info (e.g. \"i\" and \"?\") */\n",
       "\n",
       "/* Common style for \"i\" and \"?\" */\n",
       "\n",
       ".sk-estimator-doc-link,\n",
       "a:link.sk-estimator-doc-link,\n",
       "a:visited.sk-estimator-doc-link {\n",
       "  float: right;\n",
       "  font-size: smaller;\n",
       "  line-height: 1em;\n",
       "  font-family: monospace;\n",
       "  background-color: var(--sklearn-color-background);\n",
       "  border-radius: 1em;\n",
       "  height: 1em;\n",
       "  width: 1em;\n",
       "  text-decoration: none !important;\n",
       "  margin-left: 1ex;\n",
       "  /* unfitted */\n",
       "  border: var(--sklearn-color-unfitted-level-1) 1pt solid;\n",
       "  color: var(--sklearn-color-unfitted-level-1);\n",
       "}\n",
       "\n",
       ".sk-estimator-doc-link.fitted,\n",
       "a:link.sk-estimator-doc-link.fitted,\n",
       "a:visited.sk-estimator-doc-link.fitted {\n",
       "  /* fitted */\n",
       "  border: var(--sklearn-color-fitted-level-1) 1pt solid;\n",
       "  color: var(--sklearn-color-fitted-level-1);\n",
       "}\n",
       "\n",
       "/* On hover */\n",
       "div.sk-estimator:hover .sk-estimator-doc-link:hover,\n",
       ".sk-estimator-doc-link:hover,\n",
       "div.sk-label-container:hover .sk-estimator-doc-link:hover,\n",
       ".sk-estimator-doc-link:hover {\n",
       "  /* unfitted */\n",
       "  background-color: var(--sklearn-color-unfitted-level-3);\n",
       "  color: var(--sklearn-color-background);\n",
       "  text-decoration: none;\n",
       "}\n",
       "\n",
       "div.sk-estimator.fitted:hover .sk-estimator-doc-link.fitted:hover,\n",
       ".sk-estimator-doc-link.fitted:hover,\n",
       "div.sk-label-container:hover .sk-estimator-doc-link.fitted:hover,\n",
       ".sk-estimator-doc-link.fitted:hover {\n",
       "  /* fitted */\n",
       "  background-color: var(--sklearn-color-fitted-level-3);\n",
       "  color: var(--sklearn-color-background);\n",
       "  text-decoration: none;\n",
       "}\n",
       "\n",
       "/* Span, style for the box shown on hovering the info icon */\n",
       ".sk-estimator-doc-link span {\n",
       "  display: none;\n",
       "  z-index: 9999;\n",
       "  position: relative;\n",
       "  font-weight: normal;\n",
       "  right: .2ex;\n",
       "  padding: .5ex;\n",
       "  margin: .5ex;\n",
       "  width: min-content;\n",
       "  min-width: 20ex;\n",
       "  max-width: 50ex;\n",
       "  color: var(--sklearn-color-text);\n",
       "  box-shadow: 2pt 2pt 4pt #999;\n",
       "  /* unfitted */\n",
       "  background: var(--sklearn-color-unfitted-level-0);\n",
       "  border: .5pt solid var(--sklearn-color-unfitted-level-3);\n",
       "}\n",
       "\n",
       ".sk-estimator-doc-link.fitted span {\n",
       "  /* fitted */\n",
       "  background: var(--sklearn-color-fitted-level-0);\n",
       "  border: var(--sklearn-color-fitted-level-3);\n",
       "}\n",
       "\n",
       ".sk-estimator-doc-link:hover span {\n",
       "  display: block;\n",
       "}\n",
       "\n",
       "/* \"?\"-specific style due to the `<a>` HTML tag */\n",
       "\n",
       "#sk-container-id-1 a.estimator_doc_link {\n",
       "  float: right;\n",
       "  font-size: 1rem;\n",
       "  line-height: 1em;\n",
       "  font-family: monospace;\n",
       "  background-color: var(--sklearn-color-background);\n",
       "  border-radius: 1rem;\n",
       "  height: 1rem;\n",
       "  width: 1rem;\n",
       "  text-decoration: none;\n",
       "  /* unfitted */\n",
       "  color: var(--sklearn-color-unfitted-level-1);\n",
       "  border: var(--sklearn-color-unfitted-level-1) 1pt solid;\n",
       "}\n",
       "\n",
       "#sk-container-id-1 a.estimator_doc_link.fitted {\n",
       "  /* fitted */\n",
       "  border: var(--sklearn-color-fitted-level-1) 1pt solid;\n",
       "  color: var(--sklearn-color-fitted-level-1);\n",
       "}\n",
       "\n",
       "/* On hover */\n",
       "#sk-container-id-1 a.estimator_doc_link:hover {\n",
       "  /* unfitted */\n",
       "  background-color: var(--sklearn-color-unfitted-level-3);\n",
       "  color: var(--sklearn-color-background);\n",
       "  text-decoration: none;\n",
       "}\n",
       "\n",
       "#sk-container-id-1 a.estimator_doc_link.fitted:hover {\n",
       "  /* fitted */\n",
       "  background-color: var(--sklearn-color-fitted-level-3);\n",
       "}\n",
       "</style><div id=\"sk-container-id-1\" class=\"sk-top-container\"><div class=\"sk-text-repr-fallback\"><pre>MLPRegressor(activation=&#x27;tanh&#x27;, max_iter=500, random_state=42)</pre><b>In a Jupyter environment, please rerun this cell to show the HTML representation or trust the notebook. <br />On GitHub, the HTML representation is unable to render, please try loading this page with nbviewer.org.</b></div><div class=\"sk-container\" hidden><div class=\"sk-item\"><div class=\"sk-estimator fitted sk-toggleable\"><input class=\"sk-toggleable__control sk-hidden--visually\" id=\"sk-estimator-id-1\" type=\"checkbox\" checked><label for=\"sk-estimator-id-1\" class=\"sk-toggleable__label fitted sk-toggleable__label-arrow fitted\">&nbsp;&nbsp;MLPRegressor<a class=\"sk-estimator-doc-link fitted\" rel=\"noreferrer\" target=\"_blank\" href=\"https://scikit-learn.org/1.5/modules/generated/sklearn.neural_network.MLPRegressor.html\">?<span>Documentation for MLPRegressor</span></a><span class=\"sk-estimator-doc-link fitted\">i<span>Fitted</span></span></label><div class=\"sk-toggleable__content fitted\"><pre>MLPRegressor(activation=&#x27;tanh&#x27;, max_iter=500, random_state=42)</pre></div> </div></div></div></div>"
      ],
      "text/plain": [
       "MLPRegressor(activation='tanh', max_iter=500, random_state=42)"
      ]
     },
     "execution_count": 15,
     "metadata": {},
     "output_type": "execute_result"
    }
   ],
   "source": [
    "model =MLPRegressor(activation='tanh',max_iter=1000,random_state=42)\n",
    "model.fit(X_train_scaled,y_train)"
   ]
  },
  {
   "cell_type": "code",
   "execution_count": 18,
   "metadata": {},
   "outputs": [
    {
     "name": "stdout",
     "output_type": "stream",
     "text": [
      "mae 0.2575953266595813\n",
      "Mse 0.1169574201806161\n",
      "r2_score 0.9999999179597506\n"
     ]
    }
   ],
   "source": [
    "rslt = evaluate_model(model,X_train_scaled,X_val_scaled,y_train,y_val)"
   ]
  },
  {
   "cell_type": "code",
   "execution_count": 21,
   "metadata": {},
   "outputs": [
    {
     "data": {
      "text/plain": [
       "['models_saved/mlp_regressor_model.pkl']"
      ]
     },
     "execution_count": 21,
     "metadata": {},
     "output_type": "execute_result"
    }
   ],
   "source": [
    "import joblib \n",
    "joblib.dump(model, 'models_saved/mlp_regressor_model.pkl')"
   ]
  }
 ],
 "metadata": {
  "kernelspec": {
   "display_name": "F_pi",
   "language": "python",
   "name": "python3"
  },
  "language_info": {
   "codemirror_mode": {
    "name": "ipython",
    "version": 3
   },
   "file_extension": ".py",
   "mimetype": "text/x-python",
   "name": "python",
   "nbconvert_exporter": "python",
   "pygments_lexer": "ipython3",
   "version": "3.12.5"
  }
 },
 "nbformat": 4,
 "nbformat_minor": 2
}
