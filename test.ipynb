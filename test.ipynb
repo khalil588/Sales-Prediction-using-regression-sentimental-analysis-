{
 "cells": [
  {
   "cell_type": "code",
   "execution_count": 1,
   "metadata": {},
   "outputs": [
    {
     "name": "stderr",
     "output_type": "stream",
     "text": [
      "c:\\Users\\khali\\anaconda3\\envs\\F_pi\\Lib\\site-packages\\transformers\\tokenization_utils_base.py:1601: FutureWarning: `clean_up_tokenization_spaces` was not set. It will be set to `True` by default. This behavior will be depracted in transformers v4.45, and will be then set to `False` by default. For more details check this issue: https://github.com/huggingface/transformers/issues/31884\n",
      "  warnings.warn(\n"
     ]
    },
    {
     "name": "stdout",
     "output_type": "stream",
     "text": [
      "Review: This product is great!\n",
      "Sentiment: 5 stars, Score: 0.82\n",
      "\n",
      "Review: Ce produit est terrible...\n",
      "Sentiment: 1 star, Score: 0.91\n",
      "\n"
     ]
    }
   ],
   "source": [
    "from transformers import AutoTokenizer, AutoModelForSequenceClassification\n",
    "from transformers import pipeline\n",
    "\n",
    "# Load pre-trained model and tokenizer\n",
    "model_name = \"nlptown/bert-base-multilingual-uncased-sentiment\"\n",
    "tokenizer = AutoTokenizer.from_pretrained(model_name)\n",
    "model = AutoModelForSequenceClassification.from_pretrained(model_name)\n",
    "\n",
    "# Create pipeline for sentiment analysis\n",
    "sentiment_pipeline = pipeline(\"sentiment-analysis\", model=model, tokenizer=tokenizer)\n",
    "\n",
    "# Test with English and French reviews\n",
    "reviews = [\"This product is great!\", \"Ce produit est terrible...\"]\n",
    "results = sentiment_pipeline(reviews)\n",
    "\n",
    "# Print results\n",
    "for review, result in zip(reviews, results):\n",
    "    print(f\"Review: {review}\")\n",
    "    print(f\"Sentiment: {result['label']}, Score: {result['score']:.2f}\\n\")\n"
   ]
  },
  {
   "cell_type": "code",
   "execution_count": 2,
   "metadata": {},
   "outputs": [
    {
     "name": "stdout",
     "output_type": "stream",
     "text": [
      "Review: Au cours du mois dernier, notre équipe a observé des résultats très prometteurs avec le médicament L'Activan. Nous avons reçu des retours extrêmement positifs de la part des patients, qui rapportent une amélioration significative de leur qualité de vie. Les utilisateurs ont mentionné une réduction notable de l'anxiété et une meilleure gestion des symptômes. Cela a été particulièrement encourageant, car nous avions des attentes élevées lors du lancement de ce produit. De plus, les données de vente montrent une croissance continue, dépassant nos prévisions initiales. Cela témoigne de l'efficacité du produit et de l'impact positif qu'il a sur les patients. Nous avons également reçu des retours des professionnels de santé soulignant la facilité d'utilisation et l'absence d'effets secondaires notables, ce qui renforce notre confiance dans ce médicament. Pour le mois prochain, nous espérons renforcer notre campagne de sensibilisation afin d'atteindre un public encore plus large. Nous sommes convaincus que, grâce aux résultats positifs obtenus jusqu'à présent, L'Activan continuera à gagner en popularité et à faire une différence significative dans la vie de nombreux patients.\n",
      "Sentiment: 5 stars, Score: 0.73\n",
      "\n"
     ]
    }
   ],
   "source": [
    "reviews = [\"Au cours du mois dernier, notre équipe a observé des résultats très prometteurs avec le médicament L'Activan. Nous avons reçu des retours extrêmement positifs de la part des patients, qui rapportent une amélioration significative de leur qualité de vie. Les utilisateurs ont mentionné une réduction notable de l'anxiété et une meilleure gestion des symptômes. Cela a été particulièrement encourageant, car nous avions des attentes élevées lors du lancement de ce produit. De plus, les données de vente montrent une croissance continue, dépassant nos prévisions initiales. Cela témoigne de l'efficacité du produit et de l'impact positif qu'il a sur les patients. Nous avons également reçu des retours des professionnels de santé soulignant la facilité d'utilisation et l'absence d'effets secondaires notables, ce qui renforce notre confiance dans ce médicament. Pour le mois prochain, nous espérons renforcer notre campagne de sensibilisation afin d'atteindre un public encore plus large. Nous sommes convaincus que, grâce aux résultats positifs obtenus jusqu'à présent, L'Activan continuera à gagner en popularité et à faire une différence significative dans la vie de nombreux patients.\"]\n",
    "results = sentiment_pipeline(reviews)\n",
    "\n",
    "# Print results\n",
    "for review, result in zip(reviews, results):\n",
    "    print(f\"Review: {review}\")\n",
    "    print(f\"Sentiment: {result['label']}, Score: {result['score']:.2f}\\n\")"
   ]
  },
  {
   "cell_type": "code",
   "execution_count": 3,
   "metadata": {},
   "outputs": [
    {
     "name": "stdout",
     "output_type": "stream",
     "text": [
      "Review: Au cours du mois dernier, notre équipe a rencontré plusieurs défis avec le médicament L'Activan. Malheureusement, les retours des patients n'ont pas été à la hauteur de nos attentes. De nombreux utilisateurs ont signalé des effets secondaires indésirables, tels que des nausées et de la fatigue, ce qui a terni leur expérience globale du produit. Bien que quelques patients aient noté une légère amélioration de leurs symptômes, la majorité a exprimé une insatisfaction face à l'efficacité du médicament. Les données de vente révèlent également une stagnation, ce qui nous inquiète par rapport à la viabilité à long terme de L'Activan. Les professionnels de santé ont souligné la nécessité d'améliorer la communication sur les effets secondaires potentiels, ce qui pourrait nuire à notre image. Pour le mois prochain, nous devons réévaluer notre stratégie de communication et envisager des ajustements au produit afin de mieux répondre aux préoccupations des patients. Il est essentiel que nous prenions ces retours en compte pour restaurer la confiance dans L'Activan et assurer sa place sur le marché.\n",
      "Sentiment: 2 stars, Score: 0.54\n",
      "\n"
     ]
    }
   ],
   "source": [
    "reviews = [\"Au cours du mois dernier, notre équipe a rencontré plusieurs défis avec le médicament L'Activan. Malheureusement, les retours des patients n'ont pas été à la hauteur de nos attentes. De nombreux utilisateurs ont signalé des effets secondaires indésirables, tels que des nausées et de la fatigue, ce qui a terni leur expérience globale du produit. Bien que quelques patients aient noté une légère amélioration de leurs symptômes, la majorité a exprimé une insatisfaction face à l'efficacité du médicament. Les données de vente révèlent également une stagnation, ce qui nous inquiète par rapport à la viabilité à long terme de L'Activan. Les professionnels de santé ont souligné la nécessité d'améliorer la communication sur les effets secondaires potentiels, ce qui pourrait nuire à notre image. Pour le mois prochain, nous devons réévaluer notre stratégie de communication et envisager des ajustements au produit afin de mieux répondre aux préoccupations des patients. Il est essentiel que nous prenions ces retours en compte pour restaurer la confiance dans L'Activan et assurer sa place sur le marché.\"]\n",
    "results = sentiment_pipeline(reviews)\n",
    "\n",
    "# Print results\n",
    "for review, result in zip(reviews, results):\n",
    "    print(f\"Review: {review}\")\n",
    "    print(f\"Sentiment: {result['label']}, Score: {result['score']:.2f}\\n\")"
   ]
  },
  {
   "cell_type": "code",
   "execution_count": 4,
   "metadata": {},
   "outputs": [
    {
     "name": "stdout",
     "output_type": "stream",
     "text": [
      "Review: This product is great!\n",
      "Sentiment: Positive, Score: 0.82\n",
      "\n",
      "Review: Ce produit est terrible...\n",
      "Sentiment: Negative, Score: 0.91\n",
      "\n"
     ]
    }
   ],
   "source": [
    "from transformers import AutoTokenizer, AutoModelForSequenceClassification\n",
    "from transformers import pipeline\n",
    "\n",
    "# Load pre-trained model and tokenizer\n",
    "model_name = \"nlptown/bert-base-multilingual-uncased-sentiment\"  # You may want to choose a binary fine-tuned model\n",
    "tokenizer = AutoTokenizer.from_pretrained(model_name)\n",
    "model = AutoModelForSequenceClassification.from_pretrained(model_name)\n",
    "\n",
    "# Create pipeline for sentiment analysis\n",
    "sentiment_pipeline = pipeline(\"sentiment-analysis\", model=model, tokenizer=tokenizer)\n",
    "\n",
    "# Test with English and French reviews\n",
    "reviews = [\"This product is great!\", \"Ce produit est terrible...\"]\n",
    "results = sentiment_pipeline(reviews)\n",
    "\n",
    "# Interpret results for binary sentiment\n",
    "for review, result in zip(reviews, results):\n",
    "    sentiment = \"Positive\" if result['label'] in ['5 stars', '4 stars'] else \"Negative\"\n",
    "    print(f\"Review: {review}\")\n",
    "    print(f\"Sentiment: {sentiment}, Score: {result['score']:.2f}\\n\")\n"
   ]
  },
  {
   "cell_type": "code",
   "execution_count": 5,
   "metadata": {},
   "outputs": [
    {
     "name": "stdout",
     "output_type": "stream",
     "text": [
      "Review: Au cours du mois dernier, notre équipe a observé des résultats très prometteurs avec le médicament L'Activan. Nous avons reçu des retours extrêmement positifs de la part des patients, qui rapportent une amélioration significative de leur qualité de vie. Les utilisateurs ont mentionné une réduction notable de l'anxiété et une meilleure gestion des symptômes. Cela a été particulièrement encourageant, car nous avions des attentes élevées lors du lancement de ce produit. De plus, les données de vente montrent une croissance continue, dépassant nos prévisions initiales. Cela témoigne de l'efficacité du produit et de l'impact positif qu'il a sur les patients. Nous avons également reçu des retours des professionnels de santé soulignant la facilité d'utilisation et l'absence d'effets secondaires notables, ce qui renforce notre confiance dans ce médicament. Pour le mois prochain, nous espérons renforcer notre campagne de sensibilisation afin d'atteindre un public encore plus large. Nous sommes convaincus que, grâce aux résultats positifs obtenus jusqu'à présent, L'Activan continuera à gagner en popularité et à faire une différence significative dans la vie de nombreux patients.\n",
      "Sentiment: 5 stars, Score: 0.73\n",
      "\n"
     ]
    }
   ],
   "source": [
    "reviews = [\"Au cours du mois dernier, notre équipe a observé des résultats très prometteurs avec le médicament L'Activan. Nous avons reçu des retours extrêmement positifs de la part des patients, qui rapportent une amélioration significative de leur qualité de vie. Les utilisateurs ont mentionné une réduction notable de l'anxiété et une meilleure gestion des symptômes. Cela a été particulièrement encourageant, car nous avions des attentes élevées lors du lancement de ce produit. De plus, les données de vente montrent une croissance continue, dépassant nos prévisions initiales. Cela témoigne de l'efficacité du produit et de l'impact positif qu'il a sur les patients. Nous avons également reçu des retours des professionnels de santé soulignant la facilité d'utilisation et l'absence d'effets secondaires notables, ce qui renforce notre confiance dans ce médicament. Pour le mois prochain, nous espérons renforcer notre campagne de sensibilisation afin d'atteindre un public encore plus large. Nous sommes convaincus que, grâce aux résultats positifs obtenus jusqu'à présent, L'Activan continuera à gagner en popularité et à faire une différence significative dans la vie de nombreux patients.\"]\n",
    "results = sentiment_pipeline(reviews)\n",
    "\n",
    "# Print results\n",
    "for review, result in zip(reviews, results):\n",
    "    print(f\"Review: {review}\")\n",
    "    print(f\"Sentiment: {result['label']}, Score: {result['score']:.2f}\\n\")"
   ]
  },
  {
   "cell_type": "code",
   "execution_count": 6,
   "metadata": {},
   "outputs": [
    {
     "name": "stdout",
     "output_type": "stream",
     "text": [
      "Review: Au cours du mois dernier, notre équipe a rencontré plusieurs défis avec le médicament L'Activan. Malheureusement, les retours des patients n'ont pas été à la hauteur de nos attentes. De nombreux utilisateurs ont signalé des effets secondaires indésirables, tels que des nausées et de la fatigue, ce qui a terni leur expérience globale du produit. Bien que quelques patients aient noté une légère amélioration de leurs symptômes, la majorité a exprimé une insatisfaction face à l'efficacité du médicament. Les données de vente révèlent également une stagnation, ce qui nous inquiète par rapport à la viabilité à long terme de L'Activan. Les professionnels de santé ont souligné la nécessité d'améliorer la communication sur les effets secondaires potentiels, ce qui pourrait nuire à notre image. Pour le mois prochain, nous devons réévaluer notre stratégie de communication et envisager des ajustements au produit afin de mieux répondre aux préoccupations des patients. Il est essentiel que nous prenions ces retours en compte pour restaurer la confiance dans L'Activan et assurer sa place sur le marché.\n",
      "Sentiment: 2 stars, Score: 0.54\n",
      "\n"
     ]
    }
   ],
   "source": [
    "reviews = [\"Au cours du mois dernier, notre équipe a rencontré plusieurs défis avec le médicament L'Activan. Malheureusement, les retours des patients n'ont pas été à la hauteur de nos attentes. De nombreux utilisateurs ont signalé des effets secondaires indésirables, tels que des nausées et de la fatigue, ce qui a terni leur expérience globale du produit. Bien que quelques patients aient noté une légère amélioration de leurs symptômes, la majorité a exprimé une insatisfaction face à l'efficacité du médicament. Les données de vente révèlent également une stagnation, ce qui nous inquiète par rapport à la viabilité à long terme de L'Activan. Les professionnels de santé ont souligné la nécessité d'améliorer la communication sur les effets secondaires potentiels, ce qui pourrait nuire à notre image. Pour le mois prochain, nous devons réévaluer notre stratégie de communication et envisager des ajustements au produit afin de mieux répondre aux préoccupations des patients. Il est essentiel que nous prenions ces retours en compte pour restaurer la confiance dans L'Activan et assurer sa place sur le marché.\"]\n",
    "results = sentiment_pipeline(reviews)\n",
    "\n",
    "# Print results\n",
    "for review, result in zip(reviews, results):\n",
    "    print(f\"Review: {review}\")\n",
    "    print(f\"Sentiment: {result['label']}, Score: {result['score']:.2f}\\n\")"
   ]
  },
  {
   "cell_type": "code",
   "execution_count": 7,
   "metadata": {},
   "outputs": [
    {
     "name": "stderr",
     "output_type": "stream",
     "text": [
      "Some weights of XLMRobertaForSequenceClassification were not initialized from the model checkpoint at xlm-roberta-base and are newly initialized: ['classifier.dense.bias', 'classifier.dense.weight', 'classifier.out_proj.bias', 'classifier.out_proj.weight']\n",
      "You should probably TRAIN this model on a down-stream task to be able to use it for predictions and inference.\n"
     ]
    },
    {
     "name": "stdout",
     "output_type": "stream",
     "text": [
      "Review: This product is great!\n",
      "Sentiment: Negative, Score: 0.58\n",
      "\n",
      "Review: Ce produit est terrible...\n",
      "Sentiment: Negative, Score: 0.58\n",
      "\n"
     ]
    }
   ],
   "source": [
    "from transformers import AutoTokenizer, AutoModelForSequenceClassification\n",
    "from transformers import pipeline\n",
    "\n",
    "# Load a multilingual model and tokenizer\n",
    "model_name = \"xlm-roberta-base\"  # You can fine-tune this model for sentiment analysis\n",
    "tokenizer = AutoTokenizer.from_pretrained(model_name)\n",
    "model = AutoModelForSequenceClassification.from_pretrained(model_name)\n",
    "\n",
    "# Create pipeline for sentiment analysis\n",
    "sentiment_pipeline = pipeline(\"sentiment-analysis\", model=model, tokenizer=tokenizer)\n",
    "\n",
    "# Test with English and French reviews\n",
    "reviews = [\"This product is great!\", \"Ce produit est terrible...\"]\n",
    "results = sentiment_pipeline(reviews)\n",
    "\n",
    "# Interpret results for binary sentiment\n",
    "for review, result in zip(reviews, results):\n",
    "    sentiment = \"Positive\" if result['label'] == \"LABEL_1\" else \"Negative\"  # Adjust labels as necessary\n",
    "    print(f\"Review: {review}\")\n",
    "    print(f\"Sentiment: {sentiment}, Score: {result['score']:.2f}\\n\")\n"
   ]
  },
  {
   "cell_type": "code",
   "execution_count": 8,
   "metadata": {},
   "outputs": [
    {
     "name": "stdout",
     "output_type": "stream",
     "text": [
      "Review: Au cours du mois dernier, notre équipe a observé des résultats très prometteurs avec le médicament L'Activan. Nous avons reçu des retours extrêmement positifs de la part des patients, qui rapportent une amélioration significative de leur qualité de vie. Les utilisateurs ont mentionné une réduction notable de l'anxiété et une meilleure gestion des symptômes. Cela a été particulièrement encourageant, car nous avions des attentes élevées lors du lancement de ce produit. De plus, les données de vente montrent une croissance continue, dépassant nos prévisions initiales. Cela témoigne de l'efficacité du produit et de l'impact positif qu'il a sur les patients. Nous avons également reçu des retours des professionnels de santé soulignant la facilité d'utilisation et l'absence d'effets secondaires notables, ce qui renforce notre confiance dans ce médicament. Pour le mois prochain, nous espérons renforcer notre campagne de sensibilisation afin d'atteindre un public encore plus large. Nous sommes convaincus que, grâce aux résultats positifs obtenus jusqu'à présent, L'Activan continuera à gagner en popularité et à faire une différence significative dans la vie de nombreux patients.\n",
      "Sentiment: LABEL_0, Score: 0.58\n",
      "\n"
     ]
    }
   ],
   "source": [
    "reviews = [\"Au cours du mois dernier, notre équipe a observé des résultats très prometteurs avec le médicament L'Activan. Nous avons reçu des retours extrêmement positifs de la part des patients, qui rapportent une amélioration significative de leur qualité de vie. Les utilisateurs ont mentionné une réduction notable de l'anxiété et une meilleure gestion des symptômes. Cela a été particulièrement encourageant, car nous avions des attentes élevées lors du lancement de ce produit. De plus, les données de vente montrent une croissance continue, dépassant nos prévisions initiales. Cela témoigne de l'efficacité du produit et de l'impact positif qu'il a sur les patients. Nous avons également reçu des retours des professionnels de santé soulignant la facilité d'utilisation et l'absence d'effets secondaires notables, ce qui renforce notre confiance dans ce médicament. Pour le mois prochain, nous espérons renforcer notre campagne de sensibilisation afin d'atteindre un public encore plus large. Nous sommes convaincus que, grâce aux résultats positifs obtenus jusqu'à présent, L'Activan continuera à gagner en popularité et à faire une différence significative dans la vie de nombreux patients.\"]\n",
    "results = sentiment_pipeline(reviews)\n",
    "\n",
    "# Print results\n",
    "for review, result in zip(reviews, results):\n",
    "    print(f\"Review: {review}\")\n",
    "    print(f\"Sentiment: {result['label']}, Score: {result['score']:.2f}\\n\")"
   ]
  },
  {
   "cell_type": "code",
   "execution_count": 9,
   "metadata": {},
   "outputs": [
    {
     "name": "stdout",
     "output_type": "stream",
     "text": [
      "Review: Au cours du mois dernier, notre équipe a rencontré plusieurs défis avec le médicament L'Activan. Malheureusement, les retours des patients n'ont pas été à la hauteur de nos attentes. De nombreux utilisateurs ont signalé des effets secondaires indésirables, tels que des nausées et de la fatigue, ce qui a terni leur expérience globale du produit. Bien que quelques patients aient noté une légère amélioration de leurs symptômes, la majorité a exprimé une insatisfaction face à l'efficacité du médicament. Les données de vente révèlent également une stagnation, ce qui nous inquiète par rapport à la viabilité à long terme de L'Activan. Les professionnels de santé ont souligné la nécessité d'améliorer la communication sur les effets secondaires potentiels, ce qui pourrait nuire à notre image. Pour le mois prochain, nous devons réévaluer notre stratégie de communication et envisager des ajustements au produit afin de mieux répondre aux préoccupations des patients. Il est essentiel que nous prenions ces retours en compte pour restaurer la confiance dans L'Activan et assurer sa place sur le marché.\n",
      "Sentiment: LABEL_0, Score: 0.59\n",
      "\n"
     ]
    }
   ],
   "source": [
    "reviews = [\"Au cours du mois dernier, notre équipe a rencontré plusieurs défis avec le médicament L'Activan. Malheureusement, les retours des patients n'ont pas été à la hauteur de nos attentes. De nombreux utilisateurs ont signalé des effets secondaires indésirables, tels que des nausées et de la fatigue, ce qui a terni leur expérience globale du produit. Bien que quelques patients aient noté une légère amélioration de leurs symptômes, la majorité a exprimé une insatisfaction face à l'efficacité du médicament. Les données de vente révèlent également une stagnation, ce qui nous inquiète par rapport à la viabilité à long terme de L'Activan. Les professionnels de santé ont souligné la nécessité d'améliorer la communication sur les effets secondaires potentiels, ce qui pourrait nuire à notre image. Pour le mois prochain, nous devons réévaluer notre stratégie de communication et envisager des ajustements au produit afin de mieux répondre aux préoccupations des patients. Il est essentiel que nous prenions ces retours en compte pour restaurer la confiance dans L'Activan et assurer sa place sur le marché.\"]\n",
    "results = sentiment_pipeline(reviews)\n",
    "\n",
    "# Print results\n",
    "for review, result in zip(reviews, results):\n",
    "    print(f\"Review: {review}\")\n",
    "    print(f\"Sentiment: {result['label']}, Score: {result['score']:.2f}\\n\")"
   ]
  },
  {
   "cell_type": "code",
   "execution_count": 10,
   "metadata": {},
   "outputs": [
    {
     "name": "stdout",
     "output_type": "stream",
     "text": [
      "Review: This product is great!\n",
      "Sentiment: Positive, Score: 0.94\n",
      "\n",
      "Review: Ce produit est terrible...\n",
      "Sentiment: Negative, Score: 0.96\n",
      "\n"
     ]
    }
   ],
   "source": [
    "from transformers import AutoTokenizer, AutoModelForSequenceClassification\n",
    "from transformers import pipeline\n",
    "\n",
    "# Load the multilingual XLM-RoBERTa model\n",
    "model_name = \"cardiffnlp/twitter-xlm-roberta-base-sentiment\"  # This model is fine-tuned for sentiment\n",
    "tokenizer = AutoTokenizer.from_pretrained(model_name)\n",
    "model = AutoModelForSequenceClassification.from_pretrained(model_name)\n",
    "\n",
    "# Create pipeline for sentiment analysis\n",
    "sentiment_pipeline = pipeline(\"sentiment-analysis\", model=model, tokenizer=tokenizer)\n",
    "\n",
    "# Test with English and French reviews\n",
    "reviews = [\"This product is great!\", \"Ce produit est terrible...\"]\n",
    "results = sentiment_pipeline(reviews)\n",
    "\n",
    "# Interpret results for binary sentiment\n",
    "for review, result in zip(reviews, results):\n",
    "    sentiment = \"Positive\" if result['label'] == \"positive\" else \"Negative\"\n",
    "    print(f\"Review: {review}\")\n",
    "    print(f\"Sentiment: {sentiment}, Score: {result['score']:.2f}\\n\")\n"
   ]
  },
  {
   "cell_type": "code",
   "execution_count": 11,
   "metadata": {},
   "outputs": [
    {
     "name": "stdout",
     "output_type": "stream",
     "text": [
      "Review: Au cours du mois dernier, notre équipe a observé des résultats très prometteurs avec le médicament L'Activan. Nous avons reçu des retours extrêmement positifs de la part des patients, qui rapportent une amélioration significative de leur qualité de vie. Les utilisateurs ont mentionné une réduction notable de l'anxiété et une meilleure gestion des symptômes. Cela a été particulièrement encourageant, car nous avions des attentes élevées lors du lancement de ce produit. De plus, les données de vente montrent une croissance continue, dépassant nos prévisions initiales. Cela témoigne de l'efficacité du produit et de l'impact positif qu'il a sur les patients. Nous avons également reçu des retours des professionnels de santé soulignant la facilité d'utilisation et l'absence d'effets secondaires notables, ce qui renforce notre confiance dans ce médicament. Pour le mois prochain, nous espérons renforcer notre campagne de sensibilisation afin d'atteindre un public encore plus large. Nous sommes convaincus que, grâce aux résultats positifs obtenus jusqu'à présent, L'Activan continuera à gagner en popularité et à faire une différence significative dans la vie de nombreux patients.\n",
      "Sentiment: positive, Score: 0.60\n",
      "\n"
     ]
    }
   ],
   "source": [
    "reviews = [\"Au cours du mois dernier, notre équipe a observé des résultats très prometteurs avec le médicament L'Activan. Nous avons reçu des retours extrêmement positifs de la part des patients, qui rapportent une amélioration significative de leur qualité de vie. Les utilisateurs ont mentionné une réduction notable de l'anxiété et une meilleure gestion des symptômes. Cela a été particulièrement encourageant, car nous avions des attentes élevées lors du lancement de ce produit. De plus, les données de vente montrent une croissance continue, dépassant nos prévisions initiales. Cela témoigne de l'efficacité du produit et de l'impact positif qu'il a sur les patients. Nous avons également reçu des retours des professionnels de santé soulignant la facilité d'utilisation et l'absence d'effets secondaires notables, ce qui renforce notre confiance dans ce médicament. Pour le mois prochain, nous espérons renforcer notre campagne de sensibilisation afin d'atteindre un public encore plus large. Nous sommes convaincus que, grâce aux résultats positifs obtenus jusqu'à présent, L'Activan continuera à gagner en popularité et à faire une différence significative dans la vie de nombreux patients.\"]\n",
    "results = sentiment_pipeline(reviews)\n",
    "\n",
    "# Print results\n",
    "for review, result in zip(reviews, results):\n",
    "    print(f\"Review: {review}\")\n",
    "    print(f\"Sentiment: {result['label']}, Score: {result['score']:.2f}\\n\")"
   ]
  },
  {
   "cell_type": "code",
   "execution_count": 12,
   "metadata": {},
   "outputs": [
    {
     "name": "stdout",
     "output_type": "stream",
     "text": [
      "Review: Au cours du mois dernier, notre équipe a rencontré plusieurs défis avec le médicament L'Activan. Malheureusement, les retours des patients n'ont pas été à la hauteur de nos attentes. De nombreux utilisateurs ont signalé des effets secondaires indésirables, tels que des nausées et de la fatigue, ce qui a terni leur expérience globale du produit. Bien que quelques patients aient noté une légère amélioration de leurs symptômes, la majorité a exprimé une insatisfaction face à l'efficacité du médicament. Les données de vente révèlent également une stagnation, ce qui nous inquiète par rapport à la viabilité à long terme de L'Activan. Les professionnels de santé ont souligné la nécessité d'améliorer la communication sur les effets secondaires potentiels, ce qui pourrait nuire à notre image. Pour le mois prochain, nous devons réévaluer notre stratégie de communication et envisager des ajustements au produit afin de mieux répondre aux préoccupations des patients. Il est essentiel que nous prenions ces retours en compte pour restaurer la confiance dans L'Activan et assurer sa place sur le marché.\n",
      "Sentiment: negative, Score: 0.39\n",
      "\n"
     ]
    }
   ],
   "source": [
    "reviews = [\"Au cours du mois dernier, notre équipe a rencontré plusieurs défis avec le médicament L'Activan. Malheureusement, les retours des patients n'ont pas été à la hauteur de nos attentes. De nombreux utilisateurs ont signalé des effets secondaires indésirables, tels que des nausées et de la fatigue, ce qui a terni leur expérience globale du produit. Bien que quelques patients aient noté une légère amélioration de leurs symptômes, la majorité a exprimé une insatisfaction face à l'efficacité du médicament. Les données de vente révèlent également une stagnation, ce qui nous inquiète par rapport à la viabilité à long terme de L'Activan. Les professionnels de santé ont souligné la nécessité d'améliorer la communication sur les effets secondaires potentiels, ce qui pourrait nuire à notre image. Pour le mois prochain, nous devons réévaluer notre stratégie de communication et envisager des ajustements au produit afin de mieux répondre aux préoccupations des patients. Il est essentiel que nous prenions ces retours en compte pour restaurer la confiance dans L'Activan et assurer sa place sur le marché.\"]\n",
    "results = sentiment_pipeline(reviews)\n",
    "\n",
    "# Print results\n",
    "for review, result in zip(reviews, results):\n",
    "    print(f\"Review: {review}\")\n",
    "    print(f\"Sentiment: {result['label']}, Score: {result['score']:.2f}\\n\")"
   ]
  },
  {
   "cell_type": "code",
   "execution_count": 14,
   "metadata": {},
   "outputs": [
    {
     "name": "stderr",
     "output_type": "stream",
     "text": [
      "Some weights of BertForSequenceClassification were not initialized from the model checkpoint at bert-base-multilingual-cased and are newly initialized: ['classifier.bias', 'classifier.weight']\n",
      "You should probably TRAIN this model on a down-stream task to be able to use it for predictions and inference.\n"
     ]
    },
    {
     "name": "stdout",
     "output_type": "stream",
     "text": [
      "[{'label': 'LABEL_0', 'score': 0.5295301675796509}]\n"
     ]
    }
   ],
   "source": [
    "from transformers import AutoTokenizer, AutoModelForSequenceClassification, pipeline\n",
    "\n",
    "# Load the multilingual BERT model\n",
    "model_name = \"bert-base-multilingual-cased\"\n",
    "tokenizer = AutoTokenizer.from_pretrained(model_name)\n",
    "model = AutoModelForSequenceClassification.from_pretrained(model_name)\n",
    "\n",
    "# Create a pipeline for sentiment analysis\n",
    "classifier = pipeline('sentiment-analysis', model=model, tokenizer=tokenizer)\n",
    "\n",
    "# Example text in French (you can switch to other languages)\n",
    "text = \"Au cours du mois dernier, notre équipe a rencontré plusieurs défis avec le médicament L'Activan. Malheureusement, les retours des patients n'ont pas été à la hauteur de nos attentes. De nombreux utilisateurs ont signalé des effets secondaires indésirables, tels que des nausées et de la fatigue, ce qui a terni leur expérience globale du produit. Bien que quelques patients aient noté une légère amélioration de leurs symptômes, la majorité a exprimé une insatisfaction face à l'efficacité du médicament. Les données de vente révèlent également une stagnation, ce qui nous inquiète par rapport à la viabilité à long terme de L'Activan. Les professionnels de santé ont souligné la nécessité d'améliorer la communication sur les effets secondaires potentiels, ce qui pourrait nuire à notre image. Pour le mois prochain, nous devons réévaluer notre stratégie de communication et envisager des ajustements au produit afin de mieux répondre aux préoccupations des patients. Il est essentiel que nous prenions ces retours en compte pour restaurer la confiance dans L'Activan et assurer sa place sur le marché.\"\n",
    "result = classifier(text)\n",
    "\n",
    "print(result)\n"
   ]
  },
  {
   "cell_type": "code",
   "execution_count": 15,
   "metadata": {},
   "outputs": [
    {
     "data": {
      "application/vnd.jupyter.widget-view+json": {
       "model_id": "2363c4625a9c4797a48a6c133055e959",
       "version_major": 2,
       "version_minor": 0
      },
      "text/plain": [
       "vocab.json:   0%|          | 0.00/899k [00:00<?, ?B/s]"
      ]
     },
     "metadata": {},
     "output_type": "display_data"
    },
    {
     "data": {
      "application/vnd.jupyter.widget-view+json": {
       "model_id": "26ec7e99c5c649068b61b61d14d2f1ef",
       "version_major": 2,
       "version_minor": 0
      },
      "text/plain": [
       "merges.txt:   0%|          | 0.00/456k [00:00<?, ?B/s]"
      ]
     },
     "metadata": {},
     "output_type": "display_data"
    },
    {
     "data": {
      "application/vnd.jupyter.widget-view+json": {
       "model_id": "2feebfb2160e47d4ac61fba4c3cbc152",
       "version_major": 2,
       "version_minor": 0
      },
      "text/plain": [
       "tokenizer.json:   0%|          | 0.00/1.36M [00:00<?, ?B/s]"
      ]
     },
     "metadata": {},
     "output_type": "display_data"
    },
    {
     "data": {
      "application/vnd.jupyter.widget-view+json": {
       "model_id": "1e0058b6686c4b059117a06a48a87e47",
       "version_major": 2,
       "version_minor": 0
      },
      "text/plain": [
       "config.json:   0%|          | 0.00/694 [00:00<?, ?B/s]"
      ]
     },
     "metadata": {},
     "output_type": "display_data"
    },
    {
     "data": {
      "application/vnd.jupyter.widget-view+json": {
       "model_id": "e62254c0dd5840debbe497e01680e97f",
       "version_major": 2,
       "version_minor": 0
      },
      "text/plain": [
       "pytorch_model.bin:   0%|          | 0.00/597M [00:00<?, ?B/s]"
      ]
     },
     "metadata": {},
     "output_type": "display_data"
    },
    {
     "name": "stderr",
     "output_type": "stream",
     "text": [
      "Some weights of LongformerForSequenceClassification were not initialized from the model checkpoint at allenai/longformer-base-4096 and are newly initialized: ['classifier.dense.bias', 'classifier.dense.weight', 'classifier.out_proj.bias', 'classifier.out_proj.weight']\n",
      "You should probably TRAIN this model on a down-stream task to be able to use it for predictions and inference.\n",
      "Initializing global attention on CLS token...\n",
      "Input ids are automatically padded to be a multiple of `config.attention_window`: 512\n"
     ]
    },
    {
     "name": "stdout",
     "output_type": "stream",
     "text": [
      "[{'label': 'LABEL_1', 'score': 0.5203164219856262}]\n"
     ]
    }
   ],
   "source": [
    "from transformers import LongformerTokenizer, LongformerForSequenceClassification, pipeline\n",
    "\n",
    "# Load the Longformer model\n",
    "model_name = \"allenai/longformer-base-4096\"\n",
    "tokenizer = LongformerTokenizer.from_pretrained(model_name)\n",
    "model = LongformerForSequenceClassification.from_pretrained(model_name)\n",
    "\n",
    "# Create a pipeline for sentiment analysis\n",
    "classifier = pipeline('sentiment-analysis', model=model, tokenizer=tokenizer)\n",
    "\n",
    "# Example long review\n",
    "text = \"\"\"Votre produit a non seulement été inefficace, mais il a également causé des effets secondaires que je n'avais jamais rencontrés auparavant. \n",
    "Je suis extrêmement déçu et je ne le recommanderai certainement pas à d'autres. Je m'attendais à un meilleur service après-vente, \n",
    "mais je n'ai reçu aucune aide pour résoudre ces problèmes. En résumé, je regrette d'avoir investi dans ce produit et je suis \n",
    "frustré par cette expérience.\"\"\"\n",
    "result = classifier(text)\n",
    "\n",
    "print(result)\n"
   ]
  },
  {
   "cell_type": "code",
   "execution_count": 19,
   "metadata": {},
   "outputs": [
    {
     "name": "stderr",
     "output_type": "stream",
     "text": [
      "c:\\Users\\khali\\anaconda3\\envs\\F_pi\\Lib\\site-packages\\transformers\\tokenization_utils_base.py:1601: FutureWarning: `clean_up_tokenization_spaces` was not set. It will be set to `True` by default. This behavior will be depracted in transformers v4.45, and will be then set to `False` by default. For more details check this issue: https://github.com/huggingface/transformers/issues/31884\n",
      "  warnings.warn(\n",
      "Some weights of BigBirdForSequenceClassification were not initialized from the model checkpoint at google/bigbird-roberta-base and are newly initialized: ['classifier.dense.bias', 'classifier.dense.weight', 'classifier.out_proj.bias', 'classifier.out_proj.weight']\n",
      "You should probably TRAIN this model on a down-stream task to be able to use it for predictions and inference.\n",
      "Attention type 'block_sparse' is not possible if sequence_length: 20 <= num global tokens: 2 * config.block_size + min. num sliding tokens: 3 * config.block_size + config.num_random_blocks * config.block_size + additional buffer: config.num_random_blocks * config.block_size = 704 with config.block_size = 64, config.num_random_blocks = 3. Changing attention type to 'original_full'...\n"
     ]
    },
    {
     "name": "stdout",
     "output_type": "stream",
     "text": [
      "SequenceClassifierOutput(loss=None, logits=tensor([[ 0.0231, -0.1848]], grad_fn=<AddmmBackward0>), hidden_states=None, attentions=None)\n"
     ]
    }
   ],
   "source": [
    "from transformers import AutoTokenizer, AutoModelForSequenceClassification\n",
    "\n",
    "# Load the BigBird model\n",
    "model_name = \"google/bigbird-roberta-base\"\n",
    "tokenizer = AutoTokenizer.from_pretrained(model_name)\n",
    "model = AutoModelForSequenceClassification.from_pretrained(model_name)\n",
    "\n",
    "# Example usage\n",
    "text = \"Ceci est un exemple de texte pour l'analyse de sentiment.\"\n",
    "inputs = tokenizer(text, return_tensors=\"pt\", truncation=True, padding=True, max_length=512)\n",
    "outputs = model(**inputs)\n",
    "print(outputs)"
   ]
  },
  {
   "cell_type": "code",
   "execution_count": null,
   "metadata": {},
   "outputs": [],
   "source": []
  },
  {
   "cell_type": "code",
   "execution_count": 18,
   "metadata": {},
   "outputs": [
    {
     "name": "stderr",
     "output_type": "stream",
     "text": [
      "Some weights of BigBirdForSequenceClassification were not initialized from the model checkpoint at google/bigbird-roberta-base and are newly initialized: ['classifier.dense.bias', 'classifier.dense.weight', 'classifier.out_proj.bias', 'classifier.out_proj.weight']\n",
      "You should probably TRAIN this model on a down-stream task to be able to use it for predictions and inference.\n",
      "Attention type 'block_sparse' is not possible if sequence_length: 168 <= num global tokens: 2 * config.block_size + min. num sliding tokens: 3 * config.block_size + config.num_random_blocks * config.block_size + additional buffer: config.num_random_blocks * config.block_size = 704 with config.block_size = 64, config.num_random_blocks = 3. Changing attention type to 'original_full'...\n"
     ]
    },
    {
     "name": "stdout",
     "output_type": "stream",
     "text": [
      "[{'label': 'LABEL_0', 'score': 0.5144582390785217}]\n"
     ]
    }
   ],
   "source": [
    "from transformers import BigBirdTokenizer, BigBirdForSequenceClassification, pipeline\n",
    "\n",
    "# Load the BigBird model\n",
    "model_name = \"google/bigbird-roberta-base\"\n",
    "tokenizer = BigBirdTokenizer.from_pretrained(model_name)\n",
    "model = BigBirdForSequenceClassification.from_pretrained(model_name)\n",
    "\n",
    "# Create a pipeline for sentiment analysis\n",
    "classifier = pipeline('sentiment-analysis', model=model, tokenizer=tokenizer)\n",
    "\n",
    "# Example long review\n",
    "text = \"\"\"Votre produit a non seulement été inefficace, mais il a également causé des effets secondaires que je n'avais jamais rencontrés auparavant. \n",
    "Je suis extrêmement déçu et je ne le recommanderai certainement pas à d'autres. Je m'attendais à un meilleur service après-vente, \n",
    "mais je n'ai reçu aucune aide pour résoudre ces problèmes. En résumé, je regrette d'avoir investi dans ce produit et je suis \n",
    "frustré par cette expérience.\"\"\"\n",
    "result = classifier(text)\n",
    "\n",
    "print(result)\n"
   ]
  }
 ],
 "metadata": {
  "kernelspec": {
   "display_name": "F_pi",
   "language": "python",
   "name": "python3"
  },
  "language_info": {
   "codemirror_mode": {
    "name": "ipython",
    "version": 3
   },
   "file_extension": ".py",
   "mimetype": "text/x-python",
   "name": "python",
   "nbconvert_exporter": "python",
   "pygments_lexer": "ipython3",
   "version": "3.12.5"
  }
 },
 "nbformat": 4,
 "nbformat_minor": 2
}
